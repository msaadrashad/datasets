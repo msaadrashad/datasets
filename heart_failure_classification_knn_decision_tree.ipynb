{
  "cells": [
    {
      "cell_type": "markdown",
      "id": "07262429",
      "metadata": {
        "execution": {
          "iopub.execute_input": "2022-11-19T13:23:52.667669Z",
          "iopub.status.busy": "2022-11-19T13:23:52.667251Z",
          "iopub.status.idle": "2022-11-19T13:23:52.676014Z",
          "shell.execute_reply": "2022-11-19T13:23:52.674672Z",
          "shell.execute_reply.started": "2022-11-19T13:23:52.667634Z"
        },
        "papermill": {
          "duration": 0.01041,
          "end_time": "2022-11-19T16:45:03.900568",
          "exception": false,
          "start_time": "2022-11-19T16:45:03.890158",
          "status": "completed"
        },
        "tags": [],
        "id": "07262429"
      },
      "source": [
        "\n",
        "# Used Libraries and Models\n",
        "<hr>\n",
        "\n",
        "All the used **libraries** are as follows:\n",
        "- Numpy\n",
        "- Pandas\n",
        "- Scikit Learn\n",
        "- Matplotlib and seaborn\n",
        "\n",
        "Models used to make predictions are:\n",
        "- K Neighbors Classifier\n",
        "- Decision Tree Classifier\n"
      ]
    },
    {
      "cell_type": "code",
      "execution_count": null,
      "id": "3e713b60-8bb8-41c2-8dbf-81eef89171a1",
      "metadata": {
        "id": "3e713b60-8bb8-41c2-8dbf-81eef89171a1",
        "outputId": "2661b105-2c28-4447-e69b-cbf941971db8"
      },
      "outputs": [
        {
          "name": "stdout",
          "output_type": "stream",
          "text": [
            "Defaulting to user installation because normal site-packages is not writeable\n",
            "Collecting scikit-learn\n",
            "  Downloading scikit_learn-1.5.2-cp310-cp310-manylinux_2_17_x86_64.manylinux2014_x86_64.whl (13.3 MB)\n",
            "\u001b[2K     \u001b[38;2;114;156;31m━━━━━━━━━━━━━━━━━━━━━━━━━━━━━━━━━━━━━━━━\u001b[0m \u001b[32m13.3/13.3 MB\u001b[0m \u001b[31m8.1 MB/s\u001b[0m eta \u001b[36m0:00:00\u001b[0mm eta \u001b[36m0:00:01\u001b[0m0:01\u001b[0m01\u001b[0m\n",
            "\u001b[?25hCollecting joblib>=1.2.0\n",
            "  Downloading joblib-1.4.2-py3-none-any.whl (301 kB)\n",
            "\u001b[2K     \u001b[38;2;114;156;31m━━━━━━━━━━━━━━━━━━━━━━━━━━━━━━━━━━━━━━━\u001b[0m \u001b[32m301.8/301.8 KB\u001b[0m \u001b[31m6.8 MB/s\u001b[0m eta \u001b[36m0:00:00\u001b[0m[36m0:00:01\u001b[0m\n",
            "\u001b[?25hRequirement already satisfied: numpy>=1.19.5 in /home/saad/.local/lib/python3.10/site-packages (from scikit-learn) (2.1.2)\n",
            "Collecting scipy>=1.6.0\n",
            "  Downloading scipy-1.14.1-cp310-cp310-manylinux_2_17_x86_64.manylinux2014_x86_64.whl (41.2 MB)\n",
            "\u001b[2K     \u001b[38;2;114;156;31m━━━━━━━━━━━━━━━━━━━━━━━━━━━━━━━━━━━━━━━━\u001b[0m \u001b[32m41.2/41.2 MB\u001b[0m \u001b[31m7.3 MB/s\u001b[0m eta \u001b[36m0:00:00\u001b[0mm eta \u001b[36m0:00:01\u001b[0m[36m0:00:01\u001b[0m\n",
            "\u001b[?25hCollecting threadpoolctl>=3.1.0\n",
            "  Downloading threadpoolctl-3.5.0-py3-none-any.whl (18 kB)\n",
            "Installing collected packages: threadpoolctl, scipy, joblib, scikit-learn\n",
            "Successfully installed joblib-1.4.2 scikit-learn-1.5.2 scipy-1.14.1 threadpoolctl-3.5.0\n",
            "Note: you may need to restart the kernel to use updated packages.\n"
          ]
        }
      ],
      "source": [
        "pip install scikit-learn"
      ]
    },
    {
      "cell_type": "code",
      "execution_count": null,
      "id": "d99c60fc-a352-49ad-8e43-1e25097dcf48",
      "metadata": {
        "id": "d99c60fc-a352-49ad-8e43-1e25097dcf48",
        "outputId": "49686a72-f1b4-4ad8-8036-a8df0ddbae60"
      },
      "outputs": [
        {
          "name": "stdout",
          "output_type": "stream",
          "text": [
            "Defaulting to user installation because normal site-packages is not writeable\n",
            "Collecting seaborn\n",
            "  Downloading seaborn-0.13.2-py3-none-any.whl (294 kB)\n",
            "\u001b[2K     \u001b[38;2;114;156;31m━━━━━━━━━━━━━━━━━━━━━━━━━━━━━━━━━━━━━\u001b[0m \u001b[32m294.9/294.9 KB\u001b[0m \u001b[31m890.9 kB/s\u001b[0m eta \u001b[36m0:00:00\u001b[0m1m914.6 kB/s\u001b[0m eta \u001b[36m0:00:01\u001b[0m\n",
            "\u001b[?25hRequirement already satisfied: matplotlib!=3.6.1,>=3.4 in /home/saad/.local/lib/python3.10/site-packages (from seaborn) (3.9.2)\n",
            "Requirement already satisfied: numpy!=1.24.0,>=1.20 in /home/saad/.local/lib/python3.10/site-packages (from seaborn) (2.1.2)\n",
            "Requirement already satisfied: pandas>=1.2 in /home/saad/.local/lib/python3.10/site-packages (from seaborn) (2.2.3)\n",
            "Requirement already satisfied: pillow>=8 in /usr/lib/python3/dist-packages (from matplotlib!=3.6.1,>=3.4->seaborn) (9.0.1)\n",
            "Requirement already satisfied: fonttools>=4.22.0 in /home/saad/.local/lib/python3.10/site-packages (from matplotlib!=3.6.1,>=3.4->seaborn) (4.54.1)\n",
            "Requirement already satisfied: cycler>=0.10 in /home/saad/.local/lib/python3.10/site-packages (from matplotlib!=3.6.1,>=3.4->seaborn) (0.12.1)\n",
            "Requirement already satisfied: pyparsing>=2.3.1 in /usr/lib/python3/dist-packages (from matplotlib!=3.6.1,>=3.4->seaborn) (2.4.7)\n",
            "Requirement already satisfied: python-dateutil>=2.7 in /usr/local/lib/python3.10/dist-packages (from matplotlib!=3.6.1,>=3.4->seaborn) (2.9.0.post0)\n",
            "Requirement already satisfied: packaging>=20.0 in /usr/local/lib/python3.10/dist-packages (from matplotlib!=3.6.1,>=3.4->seaborn) (24.1)\n",
            "Requirement already satisfied: kiwisolver>=1.3.1 in /home/saad/.local/lib/python3.10/site-packages (from matplotlib!=3.6.1,>=3.4->seaborn) (1.4.7)\n",
            "Requirement already satisfied: contourpy>=1.0.1 in /home/saad/.local/lib/python3.10/site-packages (from matplotlib!=3.6.1,>=3.4->seaborn) (1.3.0)\n",
            "Requirement already satisfied: tzdata>=2022.7 in /home/saad/.local/lib/python3.10/site-packages (from pandas>=1.2->seaborn) (2024.2)\n",
            "Requirement already satisfied: pytz>=2020.1 in /usr/lib/python3/dist-packages (from pandas>=1.2->seaborn) (2022.1)\n",
            "Requirement already satisfied: six>=1.5 in /usr/lib/python3/dist-packages (from python-dateutil>=2.7->matplotlib!=3.6.1,>=3.4->seaborn) (1.16.0)\n",
            "Installing collected packages: seaborn\n",
            "Successfully installed seaborn-0.13.2\n",
            "Note: you may need to restart the kernel to use updated packages.\n"
          ]
        }
      ],
      "source": [
        "pip install seaborn"
      ]
    },
    {
      "cell_type": "code",
      "execution_count": null,
      "id": "1edfae10",
      "metadata": {
        "papermill": {
          "duration": 1.603109,
          "end_time": "2022-11-19T16:45:05.513467",
          "exception": false,
          "start_time": "2022-11-19T16:45:03.910358",
          "status": "completed"
        },
        "tags": [],
        "id": "1edfae10"
      },
      "outputs": [],
      "source": [
        "import numpy as np\n",
        "import pandas as pd\n",
        "from sklearn.neighbors import KNeighborsClassifier\n",
        "from sklearn.tree import DecisionTreeClassifier\n",
        "from sklearn.model_selection import train_test_split\n",
        "from sklearn.preprocessing import LabelEncoder\n",
        "import seaborn as sns\n",
        "import matplotlib.pyplot as plt\n",
        "from sklearn.metrics import accuracy_score, confusion_matrix, classification_report"
      ]
    },
    {
      "cell_type": "markdown",
      "id": "0a63a960",
      "metadata": {
        "papermill": {
          "duration": 0.011106,
          "end_time": "2022-11-19T16:45:05.535347",
          "exception": false,
          "start_time": "2022-11-19T16:45:05.524241",
          "status": "completed"
        },
        "tags": [],
        "id": "0a63a960"
      },
      "source": [
        "# Importing the Dataset\n",
        "<hr>\n",
        "\n",
        "Dataset is imported with the **pandas** library."
      ]
    },
    {
      "cell_type": "code",
      "execution_count": 1,
      "id": "d362f0e5",
      "metadata": {
        "papermill": {
          "duration": 0.068423,
          "end_time": "2022-11-19T16:45:05.614073",
          "exception": false,
          "start_time": "2022-11-19T16:45:05.545650",
          "status": "completed"
        },
        "tags": [],
        "colab": {
          "base_uri": "https://localhost:8080/",
          "height": 424
        },
        "id": "d362f0e5",
        "outputId": "ab2cffa4-6e44-4642-ecd2-fc4e7fcb14a6"
      },
      "outputs": [
        {
          "output_type": "execute_result",
          "data": {
            "text/plain": [
              "     Age Sex ChestPainType  RestingBP  Cholesterol  FastingBS RestingECG  \\\n",
              "0     40   M           ATA        140          289          0     Normal   \n",
              "1     49   F           NAP        160          180          0     Normal   \n",
              "2     37   M           ATA        130          283          0         ST   \n",
              "3     48   F           ASY        138          214          0     Normal   \n",
              "4     54   M           NAP        150          195          0     Normal   \n",
              "..   ...  ..           ...        ...          ...        ...        ...   \n",
              "913   45   M            TA        110          264          0     Normal   \n",
              "914   68   M           ASY        144          193          1     Normal   \n",
              "915   57   M           ASY        130          131          0     Normal   \n",
              "916   57   F           ATA        130          236          0        LVH   \n",
              "917   38   M           NAP        138          175          0     Normal   \n",
              "\n",
              "     MaxHR ExerciseAngina  Oldpeak ST_Slope  HeartDisease  \n",
              "0      172              N      0.0       Up             0  \n",
              "1      156              N      1.0     Flat             1  \n",
              "2       98              N      0.0       Up             0  \n",
              "3      108              Y      1.5     Flat             1  \n",
              "4      122              N      0.0       Up             0  \n",
              "..     ...            ...      ...      ...           ...  \n",
              "913    132              N      1.2     Flat             1  \n",
              "914    141              N      3.4     Flat             1  \n",
              "915    115              Y      1.2     Flat             1  \n",
              "916    174              N      0.0     Flat             1  \n",
              "917    173              N      0.0       Up             0  \n",
              "\n",
              "[918 rows x 12 columns]"
            ],
            "text/html": [
              "\n",
              "  <div id=\"df-1cf65305-9e73-4c91-b4aa-0a429d4f790a\" class=\"colab-df-container\">\n",
              "    <div>\n",
              "<style scoped>\n",
              "    .dataframe tbody tr th:only-of-type {\n",
              "        vertical-align: middle;\n",
              "    }\n",
              "\n",
              "    .dataframe tbody tr th {\n",
              "        vertical-align: top;\n",
              "    }\n",
              "\n",
              "    .dataframe thead th {\n",
              "        text-align: right;\n",
              "    }\n",
              "</style>\n",
              "<table border=\"1\" class=\"dataframe\">\n",
              "  <thead>\n",
              "    <tr style=\"text-align: right;\">\n",
              "      <th></th>\n",
              "      <th>Age</th>\n",
              "      <th>Sex</th>\n",
              "      <th>ChestPainType</th>\n",
              "      <th>RestingBP</th>\n",
              "      <th>Cholesterol</th>\n",
              "      <th>FastingBS</th>\n",
              "      <th>RestingECG</th>\n",
              "      <th>MaxHR</th>\n",
              "      <th>ExerciseAngina</th>\n",
              "      <th>Oldpeak</th>\n",
              "      <th>ST_Slope</th>\n",
              "      <th>HeartDisease</th>\n",
              "    </tr>\n",
              "  </thead>\n",
              "  <tbody>\n",
              "    <tr>\n",
              "      <th>0</th>\n",
              "      <td>40</td>\n",
              "      <td>M</td>\n",
              "      <td>ATA</td>\n",
              "      <td>140</td>\n",
              "      <td>289</td>\n",
              "      <td>0</td>\n",
              "      <td>Normal</td>\n",
              "      <td>172</td>\n",
              "      <td>N</td>\n",
              "      <td>0.0</td>\n",
              "      <td>Up</td>\n",
              "      <td>0</td>\n",
              "    </tr>\n",
              "    <tr>\n",
              "      <th>1</th>\n",
              "      <td>49</td>\n",
              "      <td>F</td>\n",
              "      <td>NAP</td>\n",
              "      <td>160</td>\n",
              "      <td>180</td>\n",
              "      <td>0</td>\n",
              "      <td>Normal</td>\n",
              "      <td>156</td>\n",
              "      <td>N</td>\n",
              "      <td>1.0</td>\n",
              "      <td>Flat</td>\n",
              "      <td>1</td>\n",
              "    </tr>\n",
              "    <tr>\n",
              "      <th>2</th>\n",
              "      <td>37</td>\n",
              "      <td>M</td>\n",
              "      <td>ATA</td>\n",
              "      <td>130</td>\n",
              "      <td>283</td>\n",
              "      <td>0</td>\n",
              "      <td>ST</td>\n",
              "      <td>98</td>\n",
              "      <td>N</td>\n",
              "      <td>0.0</td>\n",
              "      <td>Up</td>\n",
              "      <td>0</td>\n",
              "    </tr>\n",
              "    <tr>\n",
              "      <th>3</th>\n",
              "      <td>48</td>\n",
              "      <td>F</td>\n",
              "      <td>ASY</td>\n",
              "      <td>138</td>\n",
              "      <td>214</td>\n",
              "      <td>0</td>\n",
              "      <td>Normal</td>\n",
              "      <td>108</td>\n",
              "      <td>Y</td>\n",
              "      <td>1.5</td>\n",
              "      <td>Flat</td>\n",
              "      <td>1</td>\n",
              "    </tr>\n",
              "    <tr>\n",
              "      <th>4</th>\n",
              "      <td>54</td>\n",
              "      <td>M</td>\n",
              "      <td>NAP</td>\n",
              "      <td>150</td>\n",
              "      <td>195</td>\n",
              "      <td>0</td>\n",
              "      <td>Normal</td>\n",
              "      <td>122</td>\n",
              "      <td>N</td>\n",
              "      <td>0.0</td>\n",
              "      <td>Up</td>\n",
              "      <td>0</td>\n",
              "    </tr>\n",
              "    <tr>\n",
              "      <th>...</th>\n",
              "      <td>...</td>\n",
              "      <td>...</td>\n",
              "      <td>...</td>\n",
              "      <td>...</td>\n",
              "      <td>...</td>\n",
              "      <td>...</td>\n",
              "      <td>...</td>\n",
              "      <td>...</td>\n",
              "      <td>...</td>\n",
              "      <td>...</td>\n",
              "      <td>...</td>\n",
              "      <td>...</td>\n",
              "    </tr>\n",
              "    <tr>\n",
              "      <th>913</th>\n",
              "      <td>45</td>\n",
              "      <td>M</td>\n",
              "      <td>TA</td>\n",
              "      <td>110</td>\n",
              "      <td>264</td>\n",
              "      <td>0</td>\n",
              "      <td>Normal</td>\n",
              "      <td>132</td>\n",
              "      <td>N</td>\n",
              "      <td>1.2</td>\n",
              "      <td>Flat</td>\n",
              "      <td>1</td>\n",
              "    </tr>\n",
              "    <tr>\n",
              "      <th>914</th>\n",
              "      <td>68</td>\n",
              "      <td>M</td>\n",
              "      <td>ASY</td>\n",
              "      <td>144</td>\n",
              "      <td>193</td>\n",
              "      <td>1</td>\n",
              "      <td>Normal</td>\n",
              "      <td>141</td>\n",
              "      <td>N</td>\n",
              "      <td>3.4</td>\n",
              "      <td>Flat</td>\n",
              "      <td>1</td>\n",
              "    </tr>\n",
              "    <tr>\n",
              "      <th>915</th>\n",
              "      <td>57</td>\n",
              "      <td>M</td>\n",
              "      <td>ASY</td>\n",
              "      <td>130</td>\n",
              "      <td>131</td>\n",
              "      <td>0</td>\n",
              "      <td>Normal</td>\n",
              "      <td>115</td>\n",
              "      <td>Y</td>\n",
              "      <td>1.2</td>\n",
              "      <td>Flat</td>\n",
              "      <td>1</td>\n",
              "    </tr>\n",
              "    <tr>\n",
              "      <th>916</th>\n",
              "      <td>57</td>\n",
              "      <td>F</td>\n",
              "      <td>ATA</td>\n",
              "      <td>130</td>\n",
              "      <td>236</td>\n",
              "      <td>0</td>\n",
              "      <td>LVH</td>\n",
              "      <td>174</td>\n",
              "      <td>N</td>\n",
              "      <td>0.0</td>\n",
              "      <td>Flat</td>\n",
              "      <td>1</td>\n",
              "    </tr>\n",
              "    <tr>\n",
              "      <th>917</th>\n",
              "      <td>38</td>\n",
              "      <td>M</td>\n",
              "      <td>NAP</td>\n",
              "      <td>138</td>\n",
              "      <td>175</td>\n",
              "      <td>0</td>\n",
              "      <td>Normal</td>\n",
              "      <td>173</td>\n",
              "      <td>N</td>\n",
              "      <td>0.0</td>\n",
              "      <td>Up</td>\n",
              "      <td>0</td>\n",
              "    </tr>\n",
              "  </tbody>\n",
              "</table>\n",
              "<p>918 rows × 12 columns</p>\n",
              "</div>\n",
              "    <div class=\"colab-df-buttons\">\n",
              "\n",
              "  <div class=\"colab-df-container\">\n",
              "    <button class=\"colab-df-convert\" onclick=\"convertToInteractive('df-1cf65305-9e73-4c91-b4aa-0a429d4f790a')\"\n",
              "            title=\"Convert this dataframe to an interactive table.\"\n",
              "            style=\"display:none;\">\n",
              "\n",
              "  <svg xmlns=\"http://www.w3.org/2000/svg\" height=\"24px\" viewBox=\"0 -960 960 960\">\n",
              "    <path d=\"M120-120v-720h720v720H120Zm60-500h600v-160H180v160Zm220 220h160v-160H400v160Zm0 220h160v-160H400v160ZM180-400h160v-160H180v160Zm440 0h160v-160H620v160ZM180-180h160v-160H180v160Zm440 0h160v-160H620v160Z\"/>\n",
              "  </svg>\n",
              "    </button>\n",
              "\n",
              "  <style>\n",
              "    .colab-df-container {\n",
              "      display:flex;\n",
              "      gap: 12px;\n",
              "    }\n",
              "\n",
              "    .colab-df-convert {\n",
              "      background-color: #E8F0FE;\n",
              "      border: none;\n",
              "      border-radius: 50%;\n",
              "      cursor: pointer;\n",
              "      display: none;\n",
              "      fill: #1967D2;\n",
              "      height: 32px;\n",
              "      padding: 0 0 0 0;\n",
              "      width: 32px;\n",
              "    }\n",
              "\n",
              "    .colab-df-convert:hover {\n",
              "      background-color: #E2EBFA;\n",
              "      box-shadow: 0px 1px 2px rgba(60, 64, 67, 0.3), 0px 1px 3px 1px rgba(60, 64, 67, 0.15);\n",
              "      fill: #174EA6;\n",
              "    }\n",
              "\n",
              "    .colab-df-buttons div {\n",
              "      margin-bottom: 4px;\n",
              "    }\n",
              "\n",
              "    [theme=dark] .colab-df-convert {\n",
              "      background-color: #3B4455;\n",
              "      fill: #D2E3FC;\n",
              "    }\n",
              "\n",
              "    [theme=dark] .colab-df-convert:hover {\n",
              "      background-color: #434B5C;\n",
              "      box-shadow: 0px 1px 3px 1px rgba(0, 0, 0, 0.15);\n",
              "      filter: drop-shadow(0px 1px 2px rgba(0, 0, 0, 0.3));\n",
              "      fill: #FFFFFF;\n",
              "    }\n",
              "  </style>\n",
              "\n",
              "    <script>\n",
              "      const buttonEl =\n",
              "        document.querySelector('#df-1cf65305-9e73-4c91-b4aa-0a429d4f790a button.colab-df-convert');\n",
              "      buttonEl.style.display =\n",
              "        google.colab.kernel.accessAllowed ? 'block' : 'none';\n",
              "\n",
              "      async function convertToInteractive(key) {\n",
              "        const element = document.querySelector('#df-1cf65305-9e73-4c91-b4aa-0a429d4f790a');\n",
              "        const dataTable =\n",
              "          await google.colab.kernel.invokeFunction('convertToInteractive',\n",
              "                                                    [key], {});\n",
              "        if (!dataTable) return;\n",
              "\n",
              "        const docLinkHtml = 'Like what you see? Visit the ' +\n",
              "          '<a target=\"_blank\" href=https://colab.research.google.com/notebooks/data_table.ipynb>data table notebook</a>'\n",
              "          + ' to learn more about interactive tables.';\n",
              "        element.innerHTML = '';\n",
              "        dataTable['output_type'] = 'display_data';\n",
              "        await google.colab.output.renderOutput(dataTable, element);\n",
              "        const docLink = document.createElement('div');\n",
              "        docLink.innerHTML = docLinkHtml;\n",
              "        element.appendChild(docLink);\n",
              "      }\n",
              "    </script>\n",
              "  </div>\n",
              "\n",
              "\n",
              "<div id=\"df-4cf4083a-edac-4afa-a61e-870ced1da9e7\">\n",
              "  <button class=\"colab-df-quickchart\" onclick=\"quickchart('df-4cf4083a-edac-4afa-a61e-870ced1da9e7')\"\n",
              "            title=\"Suggest charts\"\n",
              "            style=\"display:none;\">\n",
              "\n",
              "<svg xmlns=\"http://www.w3.org/2000/svg\" height=\"24px\"viewBox=\"0 0 24 24\"\n",
              "     width=\"24px\">\n",
              "    <g>\n",
              "        <path d=\"M19 3H5c-1.1 0-2 .9-2 2v14c0 1.1.9 2 2 2h14c1.1 0 2-.9 2-2V5c0-1.1-.9-2-2-2zM9 17H7v-7h2v7zm4 0h-2V7h2v10zm4 0h-2v-4h2v4z\"/>\n",
              "    </g>\n",
              "</svg>\n",
              "  </button>\n",
              "\n",
              "<style>\n",
              "  .colab-df-quickchart {\n",
              "      --bg-color: #E8F0FE;\n",
              "      --fill-color: #1967D2;\n",
              "      --hover-bg-color: #E2EBFA;\n",
              "      --hover-fill-color: #174EA6;\n",
              "      --disabled-fill-color: #AAA;\n",
              "      --disabled-bg-color: #DDD;\n",
              "  }\n",
              "\n",
              "  [theme=dark] .colab-df-quickchart {\n",
              "      --bg-color: #3B4455;\n",
              "      --fill-color: #D2E3FC;\n",
              "      --hover-bg-color: #434B5C;\n",
              "      --hover-fill-color: #FFFFFF;\n",
              "      --disabled-bg-color: #3B4455;\n",
              "      --disabled-fill-color: #666;\n",
              "  }\n",
              "\n",
              "  .colab-df-quickchart {\n",
              "    background-color: var(--bg-color);\n",
              "    border: none;\n",
              "    border-radius: 50%;\n",
              "    cursor: pointer;\n",
              "    display: none;\n",
              "    fill: var(--fill-color);\n",
              "    height: 32px;\n",
              "    padding: 0;\n",
              "    width: 32px;\n",
              "  }\n",
              "\n",
              "  .colab-df-quickchart:hover {\n",
              "    background-color: var(--hover-bg-color);\n",
              "    box-shadow: 0 1px 2px rgba(60, 64, 67, 0.3), 0 1px 3px 1px rgba(60, 64, 67, 0.15);\n",
              "    fill: var(--button-hover-fill-color);\n",
              "  }\n",
              "\n",
              "  .colab-df-quickchart-complete:disabled,\n",
              "  .colab-df-quickchart-complete:disabled:hover {\n",
              "    background-color: var(--disabled-bg-color);\n",
              "    fill: var(--disabled-fill-color);\n",
              "    box-shadow: none;\n",
              "  }\n",
              "\n",
              "  .colab-df-spinner {\n",
              "    border: 2px solid var(--fill-color);\n",
              "    border-color: transparent;\n",
              "    border-bottom-color: var(--fill-color);\n",
              "    animation:\n",
              "      spin 1s steps(1) infinite;\n",
              "  }\n",
              "\n",
              "  @keyframes spin {\n",
              "    0% {\n",
              "      border-color: transparent;\n",
              "      border-bottom-color: var(--fill-color);\n",
              "      border-left-color: var(--fill-color);\n",
              "    }\n",
              "    20% {\n",
              "      border-color: transparent;\n",
              "      border-left-color: var(--fill-color);\n",
              "      border-top-color: var(--fill-color);\n",
              "    }\n",
              "    30% {\n",
              "      border-color: transparent;\n",
              "      border-left-color: var(--fill-color);\n",
              "      border-top-color: var(--fill-color);\n",
              "      border-right-color: var(--fill-color);\n",
              "    }\n",
              "    40% {\n",
              "      border-color: transparent;\n",
              "      border-right-color: var(--fill-color);\n",
              "      border-top-color: var(--fill-color);\n",
              "    }\n",
              "    60% {\n",
              "      border-color: transparent;\n",
              "      border-right-color: var(--fill-color);\n",
              "    }\n",
              "    80% {\n",
              "      border-color: transparent;\n",
              "      border-right-color: var(--fill-color);\n",
              "      border-bottom-color: var(--fill-color);\n",
              "    }\n",
              "    90% {\n",
              "      border-color: transparent;\n",
              "      border-bottom-color: var(--fill-color);\n",
              "    }\n",
              "  }\n",
              "</style>\n",
              "\n",
              "  <script>\n",
              "    async function quickchart(key) {\n",
              "      const quickchartButtonEl =\n",
              "        document.querySelector('#' + key + ' button');\n",
              "      quickchartButtonEl.disabled = true;  // To prevent multiple clicks.\n",
              "      quickchartButtonEl.classList.add('colab-df-spinner');\n",
              "      try {\n",
              "        const charts = await google.colab.kernel.invokeFunction(\n",
              "            'suggestCharts', [key], {});\n",
              "      } catch (error) {\n",
              "        console.error('Error during call to suggestCharts:', error);\n",
              "      }\n",
              "      quickchartButtonEl.classList.remove('colab-df-spinner');\n",
              "      quickchartButtonEl.classList.add('colab-df-quickchart-complete');\n",
              "    }\n",
              "    (() => {\n",
              "      let quickchartButtonEl =\n",
              "        document.querySelector('#df-4cf4083a-edac-4afa-a61e-870ced1da9e7 button');\n",
              "      quickchartButtonEl.style.display =\n",
              "        google.colab.kernel.accessAllowed ? 'block' : 'none';\n",
              "    })();\n",
              "  </script>\n",
              "</div>\n",
              "\n",
              "  <div id=\"id_5ff7cd32-fffc-4dae-9e1a-2f2402e7588c\">\n",
              "    <style>\n",
              "      .colab-df-generate {\n",
              "        background-color: #E8F0FE;\n",
              "        border: none;\n",
              "        border-radius: 50%;\n",
              "        cursor: pointer;\n",
              "        display: none;\n",
              "        fill: #1967D2;\n",
              "        height: 32px;\n",
              "        padding: 0 0 0 0;\n",
              "        width: 32px;\n",
              "      }\n",
              "\n",
              "      .colab-df-generate:hover {\n",
              "        background-color: #E2EBFA;\n",
              "        box-shadow: 0px 1px 2px rgba(60, 64, 67, 0.3), 0px 1px 3px 1px rgba(60, 64, 67, 0.15);\n",
              "        fill: #174EA6;\n",
              "      }\n",
              "\n",
              "      [theme=dark] .colab-df-generate {\n",
              "        background-color: #3B4455;\n",
              "        fill: #D2E3FC;\n",
              "      }\n",
              "\n",
              "      [theme=dark] .colab-df-generate:hover {\n",
              "        background-color: #434B5C;\n",
              "        box-shadow: 0px 1px 3px 1px rgba(0, 0, 0, 0.15);\n",
              "        filter: drop-shadow(0px 1px 2px rgba(0, 0, 0, 0.3));\n",
              "        fill: #FFFFFF;\n",
              "      }\n",
              "    </style>\n",
              "    <button class=\"colab-df-generate\" onclick=\"generateWithVariable('data')\"\n",
              "            title=\"Generate code using this dataframe.\"\n",
              "            style=\"display:none;\">\n",
              "\n",
              "  <svg xmlns=\"http://www.w3.org/2000/svg\" height=\"24px\"viewBox=\"0 0 24 24\"\n",
              "       width=\"24px\">\n",
              "    <path d=\"M7,19H8.4L18.45,9,17,7.55,7,17.6ZM5,21V16.75L18.45,3.32a2,2,0,0,1,2.83,0l1.4,1.43a1.91,1.91,0,0,1,.58,1.4,1.91,1.91,0,0,1-.58,1.4L9.25,21ZM18.45,9,17,7.55Zm-12,3A5.31,5.31,0,0,0,4.9,8.1,5.31,5.31,0,0,0,1,6.5,5.31,5.31,0,0,0,4.9,4.9,5.31,5.31,0,0,0,6.5,1,5.31,5.31,0,0,0,8.1,4.9,5.31,5.31,0,0,0,12,6.5,5.46,5.46,0,0,0,6.5,12Z\"/>\n",
              "  </svg>\n",
              "    </button>\n",
              "    <script>\n",
              "      (() => {\n",
              "      const buttonEl =\n",
              "        document.querySelector('#id_5ff7cd32-fffc-4dae-9e1a-2f2402e7588c button.colab-df-generate');\n",
              "      buttonEl.style.display =\n",
              "        google.colab.kernel.accessAllowed ? 'block' : 'none';\n",
              "\n",
              "      buttonEl.onclick = () => {\n",
              "        google.colab.notebook.generateWithVariable('data');\n",
              "      }\n",
              "      })();\n",
              "    </script>\n",
              "  </div>\n",
              "\n",
              "    </div>\n",
              "  </div>\n"
            ],
            "application/vnd.google.colaboratory.intrinsic+json": {
              "type": "dataframe",
              "variable_name": "data",
              "summary": "{\n  \"name\": \"data\",\n  \"rows\": 918,\n  \"fields\": [\n    {\n      \"column\": \"Age\",\n      \"properties\": {\n        \"dtype\": \"number\",\n        \"std\": 9,\n        \"min\": 28,\n        \"max\": 77,\n        \"num_unique_values\": 50,\n        \"samples\": [\n          44,\n          68,\n          66\n        ],\n        \"semantic_type\": \"\",\n        \"description\": \"\"\n      }\n    },\n    {\n      \"column\": \"Sex\",\n      \"properties\": {\n        \"dtype\": \"category\",\n        \"num_unique_values\": 2,\n        \"samples\": [\n          \"F\",\n          \"M\"\n        ],\n        \"semantic_type\": \"\",\n        \"description\": \"\"\n      }\n    },\n    {\n      \"column\": \"ChestPainType\",\n      \"properties\": {\n        \"dtype\": \"category\",\n        \"num_unique_values\": 4,\n        \"samples\": [\n          \"NAP\",\n          \"TA\"\n        ],\n        \"semantic_type\": \"\",\n        \"description\": \"\"\n      }\n    },\n    {\n      \"column\": \"RestingBP\",\n      \"properties\": {\n        \"dtype\": \"number\",\n        \"std\": 18,\n        \"min\": 0,\n        \"max\": 200,\n        \"num_unique_values\": 67,\n        \"samples\": [\n          165,\n          118\n        ],\n        \"semantic_type\": \"\",\n        \"description\": \"\"\n      }\n    },\n    {\n      \"column\": \"Cholesterol\",\n      \"properties\": {\n        \"dtype\": \"number\",\n        \"std\": 109,\n        \"min\": 0,\n        \"max\": 603,\n        \"num_unique_values\": 222,\n        \"samples\": [\n          305,\n          321\n        ],\n        \"semantic_type\": \"\",\n        \"description\": \"\"\n      }\n    },\n    {\n      \"column\": \"FastingBS\",\n      \"properties\": {\n        \"dtype\": \"number\",\n        \"std\": 0,\n        \"min\": 0,\n        \"max\": 1,\n        \"num_unique_values\": 2,\n        \"samples\": [\n          1,\n          0\n        ],\n        \"semantic_type\": \"\",\n        \"description\": \"\"\n      }\n    },\n    {\n      \"column\": \"RestingECG\",\n      \"properties\": {\n        \"dtype\": \"category\",\n        \"num_unique_values\": 3,\n        \"samples\": [\n          \"Normal\",\n          \"ST\"\n        ],\n        \"semantic_type\": \"\",\n        \"description\": \"\"\n      }\n    },\n    {\n      \"column\": \"MaxHR\",\n      \"properties\": {\n        \"dtype\": \"number\",\n        \"std\": 25,\n        \"min\": 60,\n        \"max\": 202,\n        \"num_unique_values\": 119,\n        \"samples\": [\n          132,\n          157\n        ],\n        \"semantic_type\": \"\",\n        \"description\": \"\"\n      }\n    },\n    {\n      \"column\": \"ExerciseAngina\",\n      \"properties\": {\n        \"dtype\": \"category\",\n        \"num_unique_values\": 2,\n        \"samples\": [\n          \"Y\",\n          \"N\"\n        ],\n        \"semantic_type\": \"\",\n        \"description\": \"\"\n      }\n    },\n    {\n      \"column\": \"Oldpeak\",\n      \"properties\": {\n        \"dtype\": \"number\",\n        \"std\": 1.0665701510493233,\n        \"min\": -2.6,\n        \"max\": 6.2,\n        \"num_unique_values\": 53,\n        \"samples\": [\n          1.3,\n          0.6\n        ],\n        \"semantic_type\": \"\",\n        \"description\": \"\"\n      }\n    },\n    {\n      \"column\": \"ST_Slope\",\n      \"properties\": {\n        \"dtype\": \"category\",\n        \"num_unique_values\": 3,\n        \"samples\": [\n          \"Up\",\n          \"Flat\"\n        ],\n        \"semantic_type\": \"\",\n        \"description\": \"\"\n      }\n    },\n    {\n      \"column\": \"HeartDisease\",\n      \"properties\": {\n        \"dtype\": \"number\",\n        \"std\": 0,\n        \"min\": 0,\n        \"max\": 1,\n        \"num_unique_values\": 2,\n        \"samples\": [\n          1,\n          0\n        ],\n        \"semantic_type\": \"\",\n        \"description\": \"\"\n      }\n    }\n  ]\n}"
            }
          },
          "metadata": {},
          "execution_count": 1
        }
      ],
      "source": [
        "import pandas as pd\n",
        "url = 'https://raw.githubusercontent.com/msaadrashad/datasets/main/heart.csv'\n",
        "data = pd.read_csv(url)\n",
        "data"
      ]
    },
    {
      "cell_type": "markdown",
      "id": "845615d7",
      "metadata": {
        "papermill": {
          "duration": 0.009885,
          "end_time": "2022-11-19T16:45:05.633599",
          "exception": false,
          "start_time": "2022-11-19T16:45:05.623714",
          "status": "completed"
        },
        "tags": [],
        "id": "845615d7"
      },
      "source": [
        "# Data Information\n",
        "<hr>\n",
        "\n",
        "Now, Let's take a information of this Dataset. The Dataset contains total of 918 rows and total of 12 columns with **1 Output column** and **11 features** columns.\n",
        "\n",
        "The Dataset has following **features**:\n",
        "- Age (years)\n",
        "- Gender (Male or Female)\n",
        "- Different types of Chest Pain\n",
        "- Resting Blood Pressure (Simply measure of High BP)\n",
        "- Cholesterol Level\n",
        "- Fasing BS level (Blood Sugar)\n",
        "- Resting ECG (electrocardiography)\n",
        "- Maximum value of HR (Heart Rate)\n",
        "- Exercise Angina (Person is active in sports and exercise or not)\n",
        "- Oldpeak (Don't know what's this)\n",
        "- ST slop value (segment/heart rate slope)\n",
        "\n",
        "**HeartDisease** is our target variable.<br>\n",
        "Show the Information about dataset below:"
      ]
    },
    {
      "cell_type": "code",
      "execution_count": null,
      "id": "c04db685",
      "metadata": {
        "execution": {
          "iopub.execute_input": "2022-11-19T16:45:05.655339Z",
          "iopub.status.busy": "2022-11-19T16:45:05.654935Z",
          "iopub.status.idle": "2022-11-19T16:45:05.682925Z",
          "shell.execute_reply": "2022-11-19T16:45:05.681381Z"
        },
        "papermill": {
          "duration": 0.043067,
          "end_time": "2022-11-19T16:45:05.686656",
          "exception": false,
          "start_time": "2022-11-19T16:45:05.643589",
          "status": "completed"
        },
        "tags": [],
        "id": "c04db685",
        "outputId": "d59671c8-8d92-4015-d49d-869ef4a605a2"
      },
      "outputs": [
        {
          "name": "stdout",
          "output_type": "stream",
          "text": [
            "<class 'pandas.core.frame.DataFrame'>\n",
            "RangeIndex: 918 entries, 0 to 917\n",
            "Data columns (total 12 columns):\n",
            " #   Column          Non-Null Count  Dtype  \n",
            "---  ------          --------------  -----  \n",
            " 0   Age             918 non-null    int64  \n",
            " 1   Sex             918 non-null    object \n",
            " 2   ChestPainType   918 non-null    object \n",
            " 3   RestingBP       918 non-null    int64  \n",
            " 4   Cholesterol     918 non-null    int64  \n",
            " 5   FastingBS       918 non-null    int64  \n",
            " 6   RestingECG      918 non-null    object \n",
            " 7   MaxHR           918 non-null    int64  \n",
            " 8   ExerciseAngina  918 non-null    object \n",
            " 9   Oldpeak         918 non-null    float64\n",
            " 10  ST_Slope        918 non-null    object \n",
            " 11  HeartDisease    918 non-null    int64  \n",
            "dtypes: float64(1), int64(6), object(5)\n",
            "memory usage: 86.2+ KB\n"
          ]
        }
      ],
      "source": []
    },
    {
      "cell_type": "markdown",
      "id": "0b4d38b5",
      "metadata": {
        "papermill": {
          "duration": 0.009459,
          "end_time": "2022-11-19T16:45:05.706538",
          "exception": false,
          "start_time": "2022-11-19T16:45:05.697079",
          "status": "completed"
        },
        "tags": [],
        "id": "0b4d38b5"
      },
      "source": [
        "Now, we count total number of classes in the dataset with `value_counts()`"
      ]
    },
    {
      "cell_type": "code",
      "execution_count": null,
      "id": "fffef246",
      "metadata": {
        "execution": {
          "iopub.execute_input": "2022-11-19T16:45:05.729017Z",
          "iopub.status.busy": "2022-11-19T16:45:05.727576Z",
          "iopub.status.idle": "2022-11-19T16:45:05.735193Z",
          "shell.execute_reply": "2022-11-19T16:45:05.734080Z"
        },
        "papermill": {
          "duration": 0.021584,
          "end_time": "2022-11-19T16:45:05.737848",
          "exception": false,
          "start_time": "2022-11-19T16:45:05.716264",
          "status": "completed"
        },
        "tags": [],
        "id": "fffef246",
        "outputId": "5f3bff93-ba1d-41a2-ea33-2dfd0423c41b"
      },
      "outputs": [
        {
          "name": "stdout",
          "output_type": "stream",
          "text": [
            "1    508\n",
            "0    410\n",
            "Name: HeartDisease, dtype: int64\n"
          ]
        }
      ],
      "source": []
    },
    {
      "cell_type": "markdown",
      "id": "e073b7d0",
      "metadata": {
        "papermill": {
          "duration": 0.009937,
          "end_time": "2022-11-19T16:45:05.757727",
          "exception": false,
          "start_time": "2022-11-19T16:45:05.747790",
          "status": "completed"
        },
        "tags": [],
        "id": "e073b7d0"
      },
      "source": [
        "We can visualize the Correlation of the features with **seaborn heatmap**."
      ]
    },
    {
      "cell_type": "code",
      "execution_count": null,
      "id": "5a6422ef",
      "metadata": {
        "execution": {
          "iopub.execute_input": "2022-11-19T16:45:05.779426Z",
          "iopub.status.busy": "2022-11-19T16:45:05.779025Z",
          "iopub.status.idle": "2022-11-19T16:45:06.422328Z",
          "shell.execute_reply": "2022-11-19T16:45:06.420963Z"
        },
        "papermill": {
          "duration": 0.657433,
          "end_time": "2022-11-19T16:45:06.425136",
          "exception": false,
          "start_time": "2022-11-19T16:45:05.767703",
          "status": "completed"
        },
        "tags": [],
        "id": "5a6422ef",
        "outputId": "8b9947df-7781-4b6d-8b41-7e2b0e62b6b0"
      },
      "outputs": [
        {
          "data": {
            "text/plain": [
              "<AxesSubplot:>"
            ]
          },
          "execution_count": 5,
          "metadata": {},
          "output_type": "execute_result"
        },
        {
          "data": {
            "image/png": "[encoded data removed]",
            "text/plain": [
              "<Figure size 1152x576 with 2 Axes>"
            ]
          },
          "metadata": {
            "needs_background": "light"
          },
          "output_type": "display_data"
        }
      ],
      "source": []
    },
    {
      "cell_type": "markdown",
      "id": "06100709",
      "metadata": {
        "papermill": {
          "duration": 0.010289,
          "end_time": "2022-11-19T16:45:06.446342",
          "exception": false,
          "start_time": "2022-11-19T16:45:06.436053",
          "status": "completed"
        },
        "tags": [],
        "id": "06100709"
      },
      "source": [
        "# Null Values and Encoding\n",
        "<hr>\n",
        "\n",
        "Now, we find the **null values** in the dataset (None found) and the **Encode** the Categorical values with [Label Encoder](https://scikit-learn.org/stable/modules/generated/sklearn.preprocessing.LabelEncoder.html) to convert it into **Numerical values**.\n",
        "<br>\n",
        "\n",
        "The following features are Encoded.\n",
        "- Sex\n",
        "- ChestPainType\n",
        "- RestingECG\n",
        "- ExerciseAngina\n",
        "- ST_Slope\n",
        "\n",
        "These features are converted into numerical values (0,1,2,..) accordingly."
      ]
    },
    {
      "cell_type": "markdown",
      "id": "b6bbf966",
      "metadata": {
        "papermill": {
          "duration": 0.010526,
          "end_time": "2022-11-19T16:45:06.467586",
          "exception": false,
          "start_time": "2022-11-19T16:45:06.457060",
          "status": "completed"
        },
        "tags": [],
        "id": "b6bbf966"
      },
      "source": [
        "## Null Values\n",
        "Show the Null values."
      ]
    },
    {
      "cell_type": "code",
      "execution_count": null,
      "id": "fc42ce31",
      "metadata": {
        "execution": {
          "iopub.execute_input": "2022-11-19T16:45:06.491932Z",
          "iopub.status.busy": "2022-11-19T16:45:06.491501Z",
          "iopub.status.idle": "2022-11-19T16:45:06.517256Z",
          "shell.execute_reply": "2022-11-19T16:45:06.515715Z"
        },
        "papermill": {
          "duration": 0.04067,
          "end_time": "2022-11-19T16:45:06.519996",
          "exception": false,
          "start_time": "2022-11-19T16:45:06.479326",
          "status": "completed"
        },
        "tags": [],
        "id": "fc42ce31",
        "outputId": "9a7d7703-b9f9-4e47-ebca-79b00f8c87ec"
      },
      "outputs": [
        {
          "data": {
            "text/html": [
              "<div>\n",
              "<style scoped>\n",
              "    .dataframe tbody tr th:only-of-type {\n",
              "        vertical-align: middle;\n",
              "    }\n",
              "\n",
              "    .dataframe tbody tr th {\n",
              "        vertical-align: top;\n",
              "    }\n",
              "\n",
              "    .dataframe thead th {\n",
              "        text-align: right;\n",
              "    }\n",
              "</style>\n",
              "<table border=\"1\" class=\"dataframe\">\n",
              "  <thead>\n",
              "    <tr style=\"text-align: right;\">\n",
              "      <th></th>\n",
              "      <th>Age</th>\n",
              "      <th>Sex</th>\n",
              "      <th>ChestPainType</th>\n",
              "      <th>RestingBP</th>\n",
              "      <th>Cholesterol</th>\n",
              "      <th>FastingBS</th>\n",
              "      <th>RestingECG</th>\n",
              "      <th>MaxHR</th>\n",
              "      <th>ExerciseAngina</th>\n",
              "      <th>Oldpeak</th>\n",
              "      <th>ST_Slope</th>\n",
              "      <th>HeartDisease</th>\n",
              "    </tr>\n",
              "  </thead>\n",
              "  <tbody>\n",
              "    <tr>\n",
              "      <th>0</th>\n",
              "      <td>False</td>\n",
              "      <td>False</td>\n",
              "      <td>False</td>\n",
              "      <td>False</td>\n",
              "      <td>False</td>\n",
              "      <td>False</td>\n",
              "      <td>False</td>\n",
              "      <td>False</td>\n",
              "      <td>False</td>\n",
              "      <td>False</td>\n",
              "      <td>False</td>\n",
              "      <td>False</td>\n",
              "    </tr>\n",
              "    <tr>\n",
              "      <th>1</th>\n",
              "      <td>False</td>\n",
              "      <td>False</td>\n",
              "      <td>False</td>\n",
              "      <td>False</td>\n",
              "      <td>False</td>\n",
              "      <td>False</td>\n",
              "      <td>False</td>\n",
              "      <td>False</td>\n",
              "      <td>False</td>\n",
              "      <td>False</td>\n",
              "      <td>False</td>\n",
              "      <td>False</td>\n",
              "    </tr>\n",
              "    <tr>\n",
              "      <th>2</th>\n",
              "      <td>False</td>\n",
              "      <td>False</td>\n",
              "      <td>False</td>\n",
              "      <td>False</td>\n",
              "      <td>False</td>\n",
              "      <td>False</td>\n",
              "      <td>False</td>\n",
              "      <td>False</td>\n",
              "      <td>False</td>\n",
              "      <td>False</td>\n",
              "      <td>False</td>\n",
              "      <td>False</td>\n",
              "    </tr>\n",
              "    <tr>\n",
              "      <th>3</th>\n",
              "      <td>False</td>\n",
              "      <td>False</td>\n",
              "      <td>False</td>\n",
              "      <td>False</td>\n",
              "      <td>False</td>\n",
              "      <td>False</td>\n",
              "      <td>False</td>\n",
              "      <td>False</td>\n",
              "      <td>False</td>\n",
              "      <td>False</td>\n",
              "      <td>False</td>\n",
              "      <td>False</td>\n",
              "    </tr>\n",
              "    <tr>\n",
              "      <th>4</th>\n",
              "      <td>False</td>\n",
              "      <td>False</td>\n",
              "      <td>False</td>\n",
              "      <td>False</td>\n",
              "      <td>False</td>\n",
              "      <td>False</td>\n",
              "      <td>False</td>\n",
              "      <td>False</td>\n",
              "      <td>False</td>\n",
              "      <td>False</td>\n",
              "      <td>False</td>\n",
              "      <td>False</td>\n",
              "    </tr>\n",
              "    <tr>\n",
              "      <th>...</th>\n",
              "      <td>...</td>\n",
              "      <td>...</td>\n",
              "      <td>...</td>\n",
              "      <td>...</td>\n",
              "      <td>...</td>\n",
              "      <td>...</td>\n",
              "      <td>...</td>\n",
              "      <td>...</td>\n",
              "      <td>...</td>\n",
              "      <td>...</td>\n",
              "      <td>...</td>\n",
              "      <td>...</td>\n",
              "    </tr>\n",
              "    <tr>\n",
              "      <th>913</th>\n",
              "      <td>False</td>\n",
              "      <td>False</td>\n",
              "      <td>False</td>\n",
              "      <td>False</td>\n",
              "      <td>False</td>\n",
              "      <td>False</td>\n",
              "      <td>False</td>\n",
              "      <td>False</td>\n",
              "      <td>False</td>\n",
              "      <td>False</td>\n",
              "      <td>False</td>\n",
              "      <td>False</td>\n",
              "    </tr>\n",
              "    <tr>\n",
              "      <th>914</th>\n",
              "      <td>False</td>\n",
              "      <td>False</td>\n",
              "      <td>False</td>\n",
              "      <td>False</td>\n",
              "      <td>False</td>\n",
              "      <td>False</td>\n",
              "      <td>False</td>\n",
              "      <td>False</td>\n",
              "      <td>False</td>\n",
              "      <td>False</td>\n",
              "      <td>False</td>\n",
              "      <td>False</td>\n",
              "    </tr>\n",
              "    <tr>\n",
              "      <th>915</th>\n",
              "      <td>False</td>\n",
              "      <td>False</td>\n",
              "      <td>False</td>\n",
              "      <td>False</td>\n",
              "      <td>False</td>\n",
              "      <td>False</td>\n",
              "      <td>False</td>\n",
              "      <td>False</td>\n",
              "      <td>False</td>\n",
              "      <td>False</td>\n",
              "      <td>False</td>\n",
              "      <td>False</td>\n",
              "    </tr>\n",
              "    <tr>\n",
              "      <th>916</th>\n",
              "      <td>False</td>\n",
              "      <td>False</td>\n",
              "      <td>False</td>\n",
              "      <td>False</td>\n",
              "      <td>False</td>\n",
              "      <td>False</td>\n",
              "      <td>False</td>\n",
              "      <td>False</td>\n",
              "      <td>False</td>\n",
              "      <td>False</td>\n",
              "      <td>False</td>\n",
              "      <td>False</td>\n",
              "    </tr>\n",
              "    <tr>\n",
              "      <th>917</th>\n",
              "      <td>False</td>\n",
              "      <td>False</td>\n",
              "      <td>False</td>\n",
              "      <td>False</td>\n",
              "      <td>False</td>\n",
              "      <td>False</td>\n",
              "      <td>False</td>\n",
              "      <td>False</td>\n",
              "      <td>False</td>\n",
              "      <td>False</td>\n",
              "      <td>False</td>\n",
              "      <td>False</td>\n",
              "    </tr>\n",
              "  </tbody>\n",
              "</table>\n",
              "<p>918 rows × 12 columns</p>\n",
              "</div>"
            ],
            "text/plain": [
              "       Age    Sex  ChestPainType  RestingBP  Cholesterol  FastingBS  \\\n",
              "0    False  False          False      False        False      False   \n",
              "1    False  False          False      False        False      False   \n",
              "2    False  False          False      False        False      False   \n",
              "3    False  False          False      False        False      False   \n",
              "4    False  False          False      False        False      False   \n",
              "..     ...    ...            ...        ...          ...        ...   \n",
              "913  False  False          False      False        False      False   \n",
              "914  False  False          False      False        False      False   \n",
              "915  False  False          False      False        False      False   \n",
              "916  False  False          False      False        False      False   \n",
              "917  False  False          False      False        False      False   \n",
              "\n",
              "     RestingECG  MaxHR  ExerciseAngina  Oldpeak  ST_Slope  HeartDisease  \n",
              "0         False  False           False    False     False         False  \n",
              "1         False  False           False    False     False         False  \n",
              "2         False  False           False    False     False         False  \n",
              "3         False  False           False    False     False         False  \n",
              "4         False  False           False    False     False         False  \n",
              "..          ...    ...             ...      ...       ...           ...  \n",
              "913       False  False           False    False     False         False  \n",
              "914       False  False           False    False     False         False  \n",
              "915       False  False           False    False     False         False  \n",
              "916       False  False           False    False     False         False  \n",
              "917       False  False           False    False     False         False  \n",
              "\n",
              "[918 rows x 12 columns]"
            ]
          },
          "execution_count": 6,
          "metadata": {},
          "output_type": "execute_result"
        }
      ],
      "source": []
    },
    {
      "cell_type": "raw",
      "id": "6360f46e-e5eb-4533-9e05-bd97d0938d9d",
      "metadata": {
        "id": "6360f46e-e5eb-4533-9e05-bd97d0938d9d"
      },
      "source": [
        "Take sum of the NULL values if there are any and show the output"
      ]
    },
    {
      "cell_type": "code",
      "execution_count": null,
      "id": "f904adc3",
      "metadata": {
        "execution": {
          "iopub.execute_input": "2022-11-19T16:45:06.544019Z",
          "iopub.status.busy": "2022-11-19T16:45:06.543550Z",
          "iopub.status.idle": "2022-11-19T16:45:06.553718Z",
          "shell.execute_reply": "2022-11-19T16:45:06.552516Z"
        },
        "papermill": {
          "duration": 0.025063,
          "end_time": "2022-11-19T16:45:06.556105",
          "exception": false,
          "start_time": "2022-11-19T16:45:06.531042",
          "status": "completed"
        },
        "tags": [],
        "id": "f904adc3",
        "outputId": "56e1546d-470c-4b8e-d8c8-20047330cbac"
      },
      "outputs": [
        {
          "data": {
            "text/plain": [
              "0"
            ]
          },
          "execution_count": 7,
          "metadata": {},
          "output_type": "execute_result"
        }
      ],
      "source": []
    },
    {
      "cell_type": "markdown",
      "id": "a1807077",
      "metadata": {
        "papermill": {
          "duration": 0.010768,
          "end_time": "2022-11-19T16:45:06.577948",
          "exception": false,
          "start_time": "2022-11-19T16:45:06.567180",
          "status": "completed"
        },
        "tags": [],
        "id": "a1807077"
      },
      "source": [
        "## Encoding"
      ]
    },
    {
      "cell_type": "code",
      "execution_count": null,
      "id": "b54de7a8",
      "metadata": {
        "execution": {
          "iopub.execute_input": "2022-11-19T16:45:06.602161Z",
          "iopub.status.busy": "2022-11-19T16:45:06.601308Z",
          "iopub.status.idle": "2022-11-19T16:45:06.613197Z",
          "shell.execute_reply": "2022-11-19T16:45:06.611996Z"
        },
        "papermill": {
          "duration": 0.026861,
          "end_time": "2022-11-19T16:45:06.615718",
          "exception": false,
          "start_time": "2022-11-19T16:45:06.588857",
          "status": "completed"
        },
        "tags": [],
        "id": "b54de7a8"
      },
      "outputs": [],
      "source": [
        "\n"
      ]
    },
    {
      "cell_type": "markdown",
      "id": "e4b3ad16",
      "metadata": {
        "papermill": {
          "duration": 0.010787,
          "end_time": "2022-11-19T16:45:06.637724",
          "exception": false,
          "start_time": "2022-11-19T16:45:06.626937",
          "status": "completed"
        },
        "tags": [],
        "id": "e4b3ad16"
      },
      "source": [
        "Now, let's take a look at dataset after encoding it."
      ]
    },
    {
      "cell_type": "code",
      "execution_count": null,
      "id": "cd4f3680",
      "metadata": {
        "execution": {
          "iopub.execute_input": "2022-11-19T16:45:06.661615Z",
          "iopub.status.busy": "2022-11-19T16:45:06.661218Z",
          "iopub.status.idle": "2022-11-19T16:45:06.676482Z",
          "shell.execute_reply": "2022-11-19T16:45:06.675561Z"
        },
        "papermill": {
          "duration": 0.030343,
          "end_time": "2022-11-19T16:45:06.679109",
          "exception": false,
          "start_time": "2022-11-19T16:45:06.648766",
          "status": "completed"
        },
        "tags": [],
        "id": "cd4f3680",
        "outputId": "b4cea40d-3bb9-4c9c-b5dc-92336a532c02"
      },
      "outputs": [
        {
          "data": {
            "text/html": [
              "<div>\n",
              "<style scoped>\n",
              "    .dataframe tbody tr th:only-of-type {\n",
              "        vertical-align: middle;\n",
              "    }\n",
              "\n",
              "    .dataframe tbody tr th {\n",
              "        vertical-align: top;\n",
              "    }\n",
              "\n",
              "    .dataframe thead th {\n",
              "        text-align: right;\n",
              "    }\n",
              "</style>\n",
              "<table border=\"1\" class=\"dataframe\">\n",
              "  <thead>\n",
              "    <tr style=\"text-align: right;\">\n",
              "      <th></th>\n",
              "      <th>Age</th>\n",
              "      <th>Sex</th>\n",
              "      <th>ChestPainType</th>\n",
              "      <th>RestingBP</th>\n",
              "      <th>Cholesterol</th>\n",
              "      <th>FastingBS</th>\n",
              "      <th>RestingECG</th>\n",
              "      <th>MaxHR</th>\n",
              "      <th>ExerciseAngina</th>\n",
              "      <th>Oldpeak</th>\n",
              "      <th>ST_Slope</th>\n",
              "      <th>HeartDisease</th>\n",
              "    </tr>\n",
              "  </thead>\n",
              "  <tbody>\n",
              "    <tr>\n",
              "      <th>0</th>\n",
              "      <td>40</td>\n",
              "      <td>1</td>\n",
              "      <td>1</td>\n",
              "      <td>140</td>\n",
              "      <td>289</td>\n",
              "      <td>0</td>\n",
              "      <td>1</td>\n",
              "      <td>172</td>\n",
              "      <td>0</td>\n",
              "      <td>0.0</td>\n",
              "      <td>2</td>\n",
              "      <td>0</td>\n",
              "    </tr>\n",
              "    <tr>\n",
              "      <th>1</th>\n",
              "      <td>49</td>\n",
              "      <td>0</td>\n",
              "      <td>2</td>\n",
              "      <td>160</td>\n",
              "      <td>180</td>\n",
              "      <td>0</td>\n",
              "      <td>1</td>\n",
              "      <td>156</td>\n",
              "      <td>0</td>\n",
              "      <td>1.0</td>\n",
              "      <td>1</td>\n",
              "      <td>1</td>\n",
              "    </tr>\n",
              "    <tr>\n",
              "      <th>2</th>\n",
              "      <td>37</td>\n",
              "      <td>1</td>\n",
              "      <td>1</td>\n",
              "      <td>130</td>\n",
              "      <td>283</td>\n",
              "      <td>0</td>\n",
              "      <td>2</td>\n",
              "      <td>98</td>\n",
              "      <td>0</td>\n",
              "      <td>0.0</td>\n",
              "      <td>2</td>\n",
              "      <td>0</td>\n",
              "    </tr>\n",
              "    <tr>\n",
              "      <th>3</th>\n",
              "      <td>48</td>\n",
              "      <td>0</td>\n",
              "      <td>0</td>\n",
              "      <td>138</td>\n",
              "      <td>214</td>\n",
              "      <td>0</td>\n",
              "      <td>1</td>\n",
              "      <td>108</td>\n",
              "      <td>1</td>\n",
              "      <td>1.5</td>\n",
              "      <td>1</td>\n",
              "      <td>1</td>\n",
              "    </tr>\n",
              "    <tr>\n",
              "      <th>4</th>\n",
              "      <td>54</td>\n",
              "      <td>1</td>\n",
              "      <td>2</td>\n",
              "      <td>150</td>\n",
              "      <td>195</td>\n",
              "      <td>0</td>\n",
              "      <td>1</td>\n",
              "      <td>122</td>\n",
              "      <td>0</td>\n",
              "      <td>0.0</td>\n",
              "      <td>2</td>\n",
              "      <td>0</td>\n",
              "    </tr>\n",
              "  </tbody>\n",
              "</table>\n",
              "</div>"
            ],
            "text/plain": [
              "   Age  Sex  ChestPainType  RestingBP  Cholesterol  FastingBS  RestingECG  \\\n",
              "0   40    1              1        140          289          0           1   \n",
              "1   49    0              2        160          180          0           1   \n",
              "2   37    1              1        130          283          0           2   \n",
              "3   48    0              0        138          214          0           1   \n",
              "4   54    1              2        150          195          0           1   \n",
              "\n",
              "   MaxHR  ExerciseAngina  Oldpeak  ST_Slope  HeartDisease  \n",
              "0    172               0      0.0         2             0  \n",
              "1    156               0      1.0         1             1  \n",
              "2     98               0      0.0         2             0  \n",
              "3    108               1      1.5         1             1  \n",
              "4    122               0      0.0         2             0  "
            ]
          },
          "execution_count": 9,
          "metadata": {},
          "output_type": "execute_result"
        }
      ],
      "source": []
    },
    {
      "cell_type": "markdown",
      "id": "418faf7d",
      "metadata": {
        "papermill": {
          "duration": 0.011086,
          "end_time": "2022-11-19T16:45:06.701704",
          "exception": false,
          "start_time": "2022-11-19T16:45:06.690618",
          "status": "completed"
        },
        "tags": [],
        "id": "418faf7d"
      },
      "source": [
        "# Removing Target variable from dataset\n",
        "<hr>\n",
        "\n",
        "Now, we drop the Target column `HeartDisease` from dataset and assign it to **variable X** and assign the values of `HeartDisease` to **variable y**."
      ]
    },
    {
      "cell_type": "code",
      "execution_count": null,
      "id": "3039d37c",
      "metadata": {
        "execution": {
          "iopub.execute_input": "2022-11-19T16:45:06.727008Z",
          "iopub.status.busy": "2022-11-19T16:45:06.725638Z",
          "iopub.status.idle": "2022-11-19T16:45:06.734302Z",
          "shell.execute_reply": "2022-11-19T16:45:06.733088Z"
        },
        "papermill": {
          "duration": 0.023934,
          "end_time": "2022-11-19T16:45:06.736728",
          "exception": false,
          "start_time": "2022-11-19T16:45:06.712794",
          "status": "completed"
        },
        "tags": [],
        "id": "3039d37c"
      },
      "outputs": [],
      "source": []
    },
    {
      "cell_type": "code",
      "execution_count": null,
      "id": "2294ad7e",
      "metadata": {
        "execution": {
          "iopub.execute_input": "2022-11-19T16:45:06.761751Z",
          "iopub.status.busy": "2022-11-19T16:45:06.760808Z",
          "iopub.status.idle": "2022-11-19T16:45:06.780812Z",
          "shell.execute_reply": "2022-11-19T16:45:06.779592Z"
        },
        "papermill": {
          "duration": 0.035347,
          "end_time": "2022-11-19T16:45:06.783290",
          "exception": false,
          "start_time": "2022-11-19T16:45:06.747943",
          "status": "completed"
        },
        "tags": [],
        "id": "2294ad7e",
        "outputId": "a8e4f65a-690e-43d8-886b-e6224a533839"
      },
      "outputs": [
        {
          "data": {
            "text/html": [
              "<div>\n",
              "<style scoped>\n",
              "    .dataframe tbody tr th:only-of-type {\n",
              "        vertical-align: middle;\n",
              "    }\n",
              "\n",
              "    .dataframe tbody tr th {\n",
              "        vertical-align: top;\n",
              "    }\n",
              "\n",
              "    .dataframe thead th {\n",
              "        text-align: right;\n",
              "    }\n",
              "</style>\n",
              "<table border=\"1\" class=\"dataframe\">\n",
              "  <thead>\n",
              "    <tr style=\"text-align: right;\">\n",
              "      <th></th>\n",
              "      <th>Age</th>\n",
              "      <th>Sex</th>\n",
              "      <th>ChestPainType</th>\n",
              "      <th>RestingBP</th>\n",
              "      <th>Cholesterol</th>\n",
              "      <th>FastingBS</th>\n",
              "      <th>RestingECG</th>\n",
              "      <th>MaxHR</th>\n",
              "      <th>ExerciseAngina</th>\n",
              "      <th>Oldpeak</th>\n",
              "      <th>ST_Slope</th>\n",
              "    </tr>\n",
              "  </thead>\n",
              "  <tbody>\n",
              "    <tr>\n",
              "      <th>0</th>\n",
              "      <td>40</td>\n",
              "      <td>1</td>\n",
              "      <td>1</td>\n",
              "      <td>140</td>\n",
              "      <td>289</td>\n",
              "      <td>0</td>\n",
              "      <td>1</td>\n",
              "      <td>172</td>\n",
              "      <td>0</td>\n",
              "      <td>0.0</td>\n",
              "      <td>2</td>\n",
              "    </tr>\n",
              "    <tr>\n",
              "      <th>1</th>\n",
              "      <td>49</td>\n",
              "      <td>0</td>\n",
              "      <td>2</td>\n",
              "      <td>160</td>\n",
              "      <td>180</td>\n",
              "      <td>0</td>\n",
              "      <td>1</td>\n",
              "      <td>156</td>\n",
              "      <td>0</td>\n",
              "      <td>1.0</td>\n",
              "      <td>1</td>\n",
              "    </tr>\n",
              "    <tr>\n",
              "      <th>2</th>\n",
              "      <td>37</td>\n",
              "      <td>1</td>\n",
              "      <td>1</td>\n",
              "      <td>130</td>\n",
              "      <td>283</td>\n",
              "      <td>0</td>\n",
              "      <td>2</td>\n",
              "      <td>98</td>\n",
              "      <td>0</td>\n",
              "      <td>0.0</td>\n",
              "      <td>2</td>\n",
              "    </tr>\n",
              "    <tr>\n",
              "      <th>3</th>\n",
              "      <td>48</td>\n",
              "      <td>0</td>\n",
              "      <td>0</td>\n",
              "      <td>138</td>\n",
              "      <td>214</td>\n",
              "      <td>0</td>\n",
              "      <td>1</td>\n",
              "      <td>108</td>\n",
              "      <td>1</td>\n",
              "      <td>1.5</td>\n",
              "      <td>1</td>\n",
              "    </tr>\n",
              "    <tr>\n",
              "      <th>4</th>\n",
              "      <td>54</td>\n",
              "      <td>1</td>\n",
              "      <td>2</td>\n",
              "      <td>150</td>\n",
              "      <td>195</td>\n",
              "      <td>0</td>\n",
              "      <td>1</td>\n",
              "      <td>122</td>\n",
              "      <td>0</td>\n",
              "      <td>0.0</td>\n",
              "      <td>2</td>\n",
              "    </tr>\n",
              "    <tr>\n",
              "      <th>...</th>\n",
              "      <td>...</td>\n",
              "      <td>...</td>\n",
              "      <td>...</td>\n",
              "      <td>...</td>\n",
              "      <td>...</td>\n",
              "      <td>...</td>\n",
              "      <td>...</td>\n",
              "      <td>...</td>\n",
              "      <td>...</td>\n",
              "      <td>...</td>\n",
              "      <td>...</td>\n",
              "    </tr>\n",
              "    <tr>\n",
              "      <th>913</th>\n",
              "      <td>45</td>\n",
              "      <td>1</td>\n",
              "      <td>3</td>\n",
              "      <td>110</td>\n",
              "      <td>264</td>\n",
              "      <td>0</td>\n",
              "      <td>1</td>\n",
              "      <td>132</td>\n",
              "      <td>0</td>\n",
              "      <td>1.2</td>\n",
              "      <td>1</td>\n",
              "    </tr>\n",
              "    <tr>\n",
              "      <th>914</th>\n",
              "      <td>68</td>\n",
              "      <td>1</td>\n",
              "      <td>0</td>\n",
              "      <td>144</td>\n",
              "      <td>193</td>\n",
              "      <td>1</td>\n",
              "      <td>1</td>\n",
              "      <td>141</td>\n",
              "      <td>0</td>\n",
              "      <td>3.4</td>\n",
              "      <td>1</td>\n",
              "    </tr>\n",
              "    <tr>\n",
              "      <th>915</th>\n",
              "      <td>57</td>\n",
              "      <td>1</td>\n",
              "      <td>0</td>\n",
              "      <td>130</td>\n",
              "      <td>131</td>\n",
              "      <td>0</td>\n",
              "      <td>1</td>\n",
              "      <td>115</td>\n",
              "      <td>1</td>\n",
              "      <td>1.2</td>\n",
              "      <td>1</td>\n",
              "    </tr>\n",
              "    <tr>\n",
              "      <th>916</th>\n",
              "      <td>57</td>\n",
              "      <td>0</td>\n",
              "      <td>1</td>\n",
              "      <td>130</td>\n",
              "      <td>236</td>\n",
              "      <td>0</td>\n",
              "      <td>0</td>\n",
              "      <td>174</td>\n",
              "      <td>0</td>\n",
              "      <td>0.0</td>\n",
              "      <td>1</td>\n",
              "    </tr>\n",
              "    <tr>\n",
              "      <th>917</th>\n",
              "      <td>38</td>\n",
              "      <td>1</td>\n",
              "      <td>2</td>\n",
              "      <td>138</td>\n",
              "      <td>175</td>\n",
              "      <td>0</td>\n",
              "      <td>1</td>\n",
              "      <td>173</td>\n",
              "      <td>0</td>\n",
              "      <td>0.0</td>\n",
              "      <td>2</td>\n",
              "    </tr>\n",
              "  </tbody>\n",
              "</table>\n",
              "<p>918 rows × 11 columns</p>\n",
              "</div>"
            ],
            "text/plain": [
              "     Age  Sex  ChestPainType  RestingBP  Cholesterol  FastingBS  RestingECG  \\\n",
              "0     40    1              1        140          289          0           1   \n",
              "1     49    0              2        160          180          0           1   \n",
              "2     37    1              1        130          283          0           2   \n",
              "3     48    0              0        138          214          0           1   \n",
              "4     54    1              2        150          195          0           1   \n",
              "..   ...  ...            ...        ...          ...        ...         ...   \n",
              "913   45    1              3        110          264          0           1   \n",
              "914   68    1              0        144          193          1           1   \n",
              "915   57    1              0        130          131          0           1   \n",
              "916   57    0              1        130          236          0           0   \n",
              "917   38    1              2        138          175          0           1   \n",
              "\n",
              "     MaxHR  ExerciseAngina  Oldpeak  ST_Slope  \n",
              "0      172               0      0.0         2  \n",
              "1      156               0      1.0         1  \n",
              "2       98               0      0.0         2  \n",
              "3      108               1      1.5         1  \n",
              "4      122               0      0.0         2  \n",
              "..     ...             ...      ...       ...  \n",
              "913    132               0      1.2         1  \n",
              "914    141               0      3.4         1  \n",
              "915    115               1      1.2         1  \n",
              "916    174               0      0.0         1  \n",
              "917    173               0      0.0         2  \n",
              "\n",
              "[918 rows x 11 columns]"
            ]
          },
          "execution_count": 11,
          "metadata": {},
          "output_type": "execute_result"
        }
      ],
      "source": [
        "X"
      ]
    },
    {
      "cell_type": "code",
      "execution_count": null,
      "id": "0bd99ae4",
      "metadata": {
        "execution": {
          "iopub.execute_input": "2022-11-19T16:45:06.808369Z",
          "iopub.status.busy": "2022-11-19T16:45:06.807957Z",
          "iopub.status.idle": "2022-11-19T16:45:06.817111Z",
          "shell.execute_reply": "2022-11-19T16:45:06.815789Z"
        },
        "papermill": {
          "duration": 0.024679,
          "end_time": "2022-11-19T16:45:06.819809",
          "exception": false,
          "start_time": "2022-11-19T16:45:06.795130",
          "status": "completed"
        },
        "tags": [],
        "id": "0bd99ae4",
        "outputId": "58e5cc09-bfd9-408b-f7cf-7f51df3514ff"
      },
      "outputs": [
        {
          "data": {
            "text/plain": [
              "0      0\n",
              "1      1\n",
              "2      0\n",
              "3      1\n",
              "4      0\n",
              "      ..\n",
              "913    1\n",
              "914    1\n",
              "915    1\n",
              "916    1\n",
              "917    0\n",
              "Name: HeartDisease, Length: 918, dtype: int64"
            ]
          },
          "execution_count": 12,
          "metadata": {},
          "output_type": "execute_result"
        }
      ],
      "source": [
        "y"
      ]
    },
    {
      "cell_type": "markdown",
      "id": "3a0c31b7",
      "metadata": {
        "papermill": {
          "duration": 0.011858,
          "end_time": "2022-11-19T16:45:06.843320",
          "exception": false,
          "start_time": "2022-11-19T16:45:06.831462",
          "status": "completed"
        },
        "tags": [],
        "id": "3a0c31b7"
      },
      "source": [
        "# Spliting Dataset into train and test\n",
        "<hr>\n",
        "\n",
        "Now, we split the X and y variables into training and testing dataset with `train_test_split`, test size is 20% and random state (How random dataset is splitted) is 42."
      ]
    },
    {
      "cell_type": "code",
      "execution_count": null,
      "id": "1607d590",
      "metadata": {
        "execution": {
          "iopub.execute_input": "2022-11-19T16:45:06.868779Z",
          "iopub.status.busy": "2022-11-19T16:45:06.868363Z",
          "iopub.status.idle": "2022-11-19T16:45:06.876233Z",
          "shell.execute_reply": "2022-11-19T16:45:06.875196Z"
        },
        "papermill": {
          "duration": 0.023258,
          "end_time": "2022-11-19T16:45:06.878588",
          "exception": false,
          "start_time": "2022-11-19T16:45:06.855330",
          "status": "completed"
        },
        "tags": [],
        "id": "1607d590"
      },
      "outputs": [],
      "source": []
    },
    {
      "cell_type": "markdown",
      "id": "e3880bb9-6c4c-45e1-a254-01fded835ef9",
      "metadata": {
        "id": "e3880bb9-6c4c-45e1-a254-01fded835ef9"
      },
      "source": [
        "Display X train Values"
      ]
    },
    {
      "cell_type": "code",
      "execution_count": null,
      "id": "59d93acb",
      "metadata": {
        "execution": {
          "iopub.execute_input": "2022-11-19T16:45:06.903703Z",
          "iopub.status.busy": "2022-11-19T16:45:06.903301Z",
          "iopub.status.idle": "2022-11-19T16:45:06.918765Z",
          "shell.execute_reply": "2022-11-19T16:45:06.917441Z"
        },
        "papermill": {
          "duration": 0.031184,
          "end_time": "2022-11-19T16:45:06.921339",
          "exception": false,
          "start_time": "2022-11-19T16:45:06.890155",
          "status": "completed"
        },
        "tags": [],
        "id": "59d93acb",
        "outputId": "4db588f5-0e80-4056-f6cd-d459da2a20c2"
      },
      "outputs": [
        {
          "data": {
            "text/html": [
              "<div>\n",
              "<style scoped>\n",
              "    .dataframe tbody tr th:only-of-type {\n",
              "        vertical-align: middle;\n",
              "    }\n",
              "\n",
              "    .dataframe tbody tr th {\n",
              "        vertical-align: top;\n",
              "    }\n",
              "\n",
              "    .dataframe thead th {\n",
              "        text-align: right;\n",
              "    }\n",
              "</style>\n",
              "<table border=\"1\" class=\"dataframe\">\n",
              "  <thead>\n",
              "    <tr style=\"text-align: right;\">\n",
              "      <th></th>\n",
              "      <th>Age</th>\n",
              "      <th>Sex</th>\n",
              "      <th>ChestPainType</th>\n",
              "      <th>RestingBP</th>\n",
              "      <th>Cholesterol</th>\n",
              "      <th>FastingBS</th>\n",
              "      <th>RestingECG</th>\n",
              "      <th>MaxHR</th>\n",
              "      <th>ExerciseAngina</th>\n",
              "      <th>Oldpeak</th>\n",
              "      <th>ST_Slope</th>\n",
              "    </tr>\n",
              "  </thead>\n",
              "  <tbody>\n",
              "    <tr>\n",
              "      <th>795</th>\n",
              "      <td>42</td>\n",
              "      <td>1</td>\n",
              "      <td>2</td>\n",
              "      <td>120</td>\n",
              "      <td>240</td>\n",
              "      <td>1</td>\n",
              "      <td>1</td>\n",
              "      <td>194</td>\n",
              "      <td>0</td>\n",
              "      <td>0.8</td>\n",
              "      <td>0</td>\n",
              "    </tr>\n",
              "    <tr>\n",
              "      <th>25</th>\n",
              "      <td>36</td>\n",
              "      <td>1</td>\n",
              "      <td>2</td>\n",
              "      <td>130</td>\n",
              "      <td>209</td>\n",
              "      <td>0</td>\n",
              "      <td>1</td>\n",
              "      <td>178</td>\n",
              "      <td>0</td>\n",
              "      <td>0.0</td>\n",
              "      <td>2</td>\n",
              "    </tr>\n",
              "    <tr>\n",
              "      <th>84</th>\n",
              "      <td>56</td>\n",
              "      <td>1</td>\n",
              "      <td>0</td>\n",
              "      <td>150</td>\n",
              "      <td>213</td>\n",
              "      <td>1</td>\n",
              "      <td>1</td>\n",
              "      <td>125</td>\n",
              "      <td>1</td>\n",
              "      <td>1.0</td>\n",
              "      <td>1</td>\n",
              "    </tr>\n",
              "    <tr>\n",
              "      <th>10</th>\n",
              "      <td>37</td>\n",
              "      <td>0</td>\n",
              "      <td>2</td>\n",
              "      <td>130</td>\n",
              "      <td>211</td>\n",
              "      <td>0</td>\n",
              "      <td>1</td>\n",
              "      <td>142</td>\n",
              "      <td>0</td>\n",
              "      <td>0.0</td>\n",
              "      <td>2</td>\n",
              "    </tr>\n",
              "    <tr>\n",
              "      <th>344</th>\n",
              "      <td>51</td>\n",
              "      <td>1</td>\n",
              "      <td>0</td>\n",
              "      <td>120</td>\n",
              "      <td>0</td>\n",
              "      <td>1</td>\n",
              "      <td>1</td>\n",
              "      <td>104</td>\n",
              "      <td>0</td>\n",
              "      <td>0.0</td>\n",
              "      <td>1</td>\n",
              "    </tr>\n",
              "  </tbody>\n",
              "</table>\n",
              "</div>"
            ],
            "text/plain": [
              "     Age  Sex  ChestPainType  RestingBP  Cholesterol  FastingBS  RestingECG  \\\n",
              "795   42    1              2        120          240          1           1   \n",
              "25    36    1              2        130          209          0           1   \n",
              "84    56    1              0        150          213          1           1   \n",
              "10    37    0              2        130          211          0           1   \n",
              "344   51    1              0        120            0          1           1   \n",
              "\n",
              "     MaxHR  ExerciseAngina  Oldpeak  ST_Slope  \n",
              "795    194               0      0.8         0  \n",
              "25     178               0      0.0         2  \n",
              "84     125               1      1.0         1  \n",
              "10     142               0      0.0         2  \n",
              "344    104               0      0.0         1  "
            ]
          },
          "execution_count": 14,
          "metadata": {},
          "output_type": "execute_result"
        }
      ],
      "source": []
    },
    {
      "cell_type": "markdown",
      "id": "a382ba5a-b030-452e-a63f-8233a14367e5",
      "metadata": {
        "id": "a382ba5a-b030-452e-a63f-8233a14367e5"
      },
      "source": [
        "Display X test Values"
      ]
    },
    {
      "cell_type": "code",
      "execution_count": null,
      "id": "5469f8f7",
      "metadata": {
        "execution": {
          "iopub.execute_input": "2022-11-19T16:45:06.947524Z",
          "iopub.status.busy": "2022-11-19T16:45:06.946658Z",
          "iopub.status.idle": "2022-11-19T16:45:06.962200Z",
          "shell.execute_reply": "2022-11-19T16:45:06.960859Z"
        },
        "papermill": {
          "duration": 0.031174,
          "end_time": "2022-11-19T16:45:06.964587",
          "exception": false,
          "start_time": "2022-11-19T16:45:06.933413",
          "status": "completed"
        },
        "tags": [],
        "id": "5469f8f7",
        "outputId": "a32ba5ae-5917-4df6-e56b-51e73f68fdaf"
      },
      "outputs": [
        {
          "data": {
            "text/html": [
              "<div>\n",
              "<style scoped>\n",
              "    .dataframe tbody tr th:only-of-type {\n",
              "        vertical-align: middle;\n",
              "    }\n",
              "\n",
              "    .dataframe tbody tr th {\n",
              "        vertical-align: top;\n",
              "    }\n",
              "\n",
              "    .dataframe thead th {\n",
              "        text-align: right;\n",
              "    }\n",
              "</style>\n",
              "<table border=\"1\" class=\"dataframe\">\n",
              "  <thead>\n",
              "    <tr style=\"text-align: right;\">\n",
              "      <th></th>\n",
              "      <th>Age</th>\n",
              "      <th>Sex</th>\n",
              "      <th>ChestPainType</th>\n",
              "      <th>RestingBP</th>\n",
              "      <th>Cholesterol</th>\n",
              "      <th>FastingBS</th>\n",
              "      <th>RestingECG</th>\n",
              "      <th>MaxHR</th>\n",
              "      <th>ExerciseAngina</th>\n",
              "      <th>Oldpeak</th>\n",
              "      <th>ST_Slope</th>\n",
              "    </tr>\n",
              "  </thead>\n",
              "  <tbody>\n",
              "    <tr>\n",
              "      <th>668</th>\n",
              "      <td>63</td>\n",
              "      <td>0</td>\n",
              "      <td>1</td>\n",
              "      <td>140</td>\n",
              "      <td>195</td>\n",
              "      <td>0</td>\n",
              "      <td>1</td>\n",
              "      <td>179</td>\n",
              "      <td>0</td>\n",
              "      <td>0.0</td>\n",
              "      <td>2</td>\n",
              "    </tr>\n",
              "    <tr>\n",
              "      <th>30</th>\n",
              "      <td>53</td>\n",
              "      <td>1</td>\n",
              "      <td>2</td>\n",
              "      <td>145</td>\n",
              "      <td>518</td>\n",
              "      <td>0</td>\n",
              "      <td>1</td>\n",
              "      <td>130</td>\n",
              "      <td>0</td>\n",
              "      <td>0.0</td>\n",
              "      <td>1</td>\n",
              "    </tr>\n",
              "    <tr>\n",
              "      <th>377</th>\n",
              "      <td>65</td>\n",
              "      <td>1</td>\n",
              "      <td>0</td>\n",
              "      <td>160</td>\n",
              "      <td>0</td>\n",
              "      <td>1</td>\n",
              "      <td>2</td>\n",
              "      <td>122</td>\n",
              "      <td>0</td>\n",
              "      <td>1.2</td>\n",
              "      <td>1</td>\n",
              "    </tr>\n",
              "    <tr>\n",
              "      <th>535</th>\n",
              "      <td>56</td>\n",
              "      <td>1</td>\n",
              "      <td>0</td>\n",
              "      <td>130</td>\n",
              "      <td>0</td>\n",
              "      <td>0</td>\n",
              "      <td>0</td>\n",
              "      <td>122</td>\n",
              "      <td>1</td>\n",
              "      <td>1.0</td>\n",
              "      <td>1</td>\n",
              "    </tr>\n",
              "    <tr>\n",
              "      <th>807</th>\n",
              "      <td>54</td>\n",
              "      <td>1</td>\n",
              "      <td>1</td>\n",
              "      <td>108</td>\n",
              "      <td>309</td>\n",
              "      <td>0</td>\n",
              "      <td>1</td>\n",
              "      <td>156</td>\n",
              "      <td>0</td>\n",
              "      <td>0.0</td>\n",
              "      <td>2</td>\n",
              "    </tr>\n",
              "  </tbody>\n",
              "</table>\n",
              "</div>"
            ],
            "text/plain": [
              "     Age  Sex  ChestPainType  RestingBP  Cholesterol  FastingBS  RestingECG  \\\n",
              "668   63    0              1        140          195          0           1   \n",
              "30    53    1              2        145          518          0           1   \n",
              "377   65    1              0        160            0          1           2   \n",
              "535   56    1              0        130            0          0           0   \n",
              "807   54    1              1        108          309          0           1   \n",
              "\n",
              "     MaxHR  ExerciseAngina  Oldpeak  ST_Slope  \n",
              "668    179               0      0.0         2  \n",
              "30     130               0      0.0         1  \n",
              "377    122               0      1.2         1  \n",
              "535    122               1      1.0         1  \n",
              "807    156               0      0.0         2  "
            ]
          },
          "execution_count": 15,
          "metadata": {},
          "output_type": "execute_result"
        }
      ],
      "source": []
    },
    {
      "cell_type": "markdown",
      "id": "0bbcbadd",
      "metadata": {
        "papermill": {
          "duration": 0.011931,
          "end_time": "2022-11-19T16:45:06.988751",
          "exception": false,
          "start_time": "2022-11-19T16:45:06.976820",
          "status": "completed"
        },
        "tags": [],
        "id": "0bbcbadd"
      },
      "source": [
        "# KNN Model and Predictions\n",
        "<hr>\n",
        "\n",
        "KNN model is implemented with the `KNeighborsClassifier` imported from **sklearn.neighbors** and we fit the X_train, y_train data into it and make predictions on X_test data we will get the predictions in the **numpy array**."
      ]
    },
    {
      "cell_type": "code",
      "execution_count": null,
      "id": "71799072",
      "metadata": {
        "execution": {
          "iopub.execute_input": "2022-11-19T16:45:07.015161Z",
          "iopub.status.busy": "2022-11-19T16:45:07.014708Z",
          "iopub.status.idle": "2022-11-19T16:45:07.026782Z",
          "shell.execute_reply": "2022-11-19T16:45:07.025926Z"
        },
        "papermill": {
          "duration": 0.028215,
          "end_time": "2022-11-19T16:45:07.029107",
          "exception": false,
          "start_time": "2022-11-19T16:45:07.000892",
          "status": "completed"
        },
        "tags": [],
        "id": "71799072",
        "outputId": "d9b103e0-bee3-4440-d135-a37c036f066d"
      },
      "outputs": [
        {
          "data": {
            "text/plain": [
              "KNeighborsClassifier(n_neighbors=31)"
            ]
          },
          "execution_count": 16,
          "metadata": {},
          "output_type": "execute_result"
        }
      ],
      "source": []
    },
    {
      "cell_type": "code",
      "execution_count": null,
      "id": "edcbff93",
      "metadata": {
        "execution": {
          "iopub.execute_input": "2022-11-19T16:45:07.056510Z",
          "iopub.status.busy": "2022-11-19T16:45:07.055590Z",
          "iopub.status.idle": "2022-11-19T16:45:07.073554Z",
          "shell.execute_reply": "2022-11-19T16:45:07.072367Z"
        },
        "papermill": {
          "duration": 0.034059,
          "end_time": "2022-11-19T16:45:07.076068",
          "exception": false,
          "start_time": "2022-11-19T16:45:07.042009",
          "status": "completed"
        },
        "tags": [],
        "id": "edcbff93",
        "outputId": "4a06b4b4-fbcb-4a8a-d90a-8c868af86850"
      },
      "outputs": [
        {
          "data": {
            "text/plain": [
              "array([0, 1, 1, 1, 0, 0, 1, 1, 0, 1, 0, 1, 1, 0, 1, 1, 1, 1, 0, 1, 1, 1,\n",
              "       0, 0, 1, 0, 0, 1, 0, 0, 0, 0, 0, 1, 1, 0, 1, 0, 1, 0, 1, 0, 1, 0,\n",
              "       1, 0, 1, 0, 1, 0, 0, 0, 1, 1, 0, 1, 1, 1, 1, 0, 0, 1, 0, 1, 0, 1,\n",
              "       1, 0, 1, 0, 0, 0, 1, 1, 0, 0, 1, 0, 0, 1, 0, 1, 1, 0, 1, 0, 1, 1,\n",
              "       0, 1, 1, 1, 1, 0, 0, 0, 1, 1, 0, 1, 0, 1, 1, 0, 1, 1, 0, 1, 1, 1,\n",
              "       0, 1, 0, 0, 1, 0, 1, 0, 0, 0, 0, 1, 1, 0, 0, 1, 1, 0, 0, 0, 1, 1,\n",
              "       1, 1, 1, 1, 0, 0, 0, 1, 1, 1, 1, 0, 1, 1, 0, 1, 1, 0, 0, 1, 1, 0,\n",
              "       0, 1, 0, 0, 0, 0, 1, 0, 1, 0, 1, 1, 1, 1, 0, 0, 1, 1, 0, 0, 0, 0,\n",
              "       1, 0, 0, 0, 0, 1, 0, 1])"
            ]
          },
          "execution_count": 17,
          "metadata": {},
          "output_type": "execute_result"
        }
      ],
      "source": []
    },
    {
      "cell_type": "markdown",
      "id": "52a2e754",
      "metadata": {
        "papermill": {
          "duration": 0.012299,
          "end_time": "2022-11-19T16:45:07.101235",
          "exception": false,
          "start_time": "2022-11-19T16:45:07.088936",
          "status": "completed"
        },
        "tags": [],
        "id": "52a2e754"
      },
      "source": [
        "# Decision Tree Model and Predictions\n",
        "<hr>\n",
        "\n",
        "Decision tree  model is implemented with the `DecisionTreeClassifier` imported from **sklearn.tree** and we fit the X_train, y_train data into it and make predictions on X_test data we will get the predictions in the **numpy array**."
      ]
    },
    {
      "cell_type": "code",
      "execution_count": null,
      "id": "4f26ab2d",
      "metadata": {
        "execution": {
          "iopub.execute_input": "2022-11-19T16:45:07.128987Z",
          "iopub.status.busy": "2022-11-19T16:45:07.127610Z",
          "iopub.status.idle": "2022-11-19T16:45:07.142299Z",
          "shell.execute_reply": "2022-11-19T16:45:07.141028Z"
        },
        "papermill": {
          "duration": 0.031473,
          "end_time": "2022-11-19T16:45:07.145289",
          "exception": false,
          "start_time": "2022-11-19T16:45:07.113816",
          "status": "completed"
        },
        "tags": [],
        "id": "4f26ab2d",
        "outputId": "cfedb051-e9cb-496e-cad6-5b85813cee7f"
      },
      "outputs": [
        {
          "data": {
            "text/plain": [
              "DecisionTreeClassifier(criterion='entropy')"
            ]
          },
          "execution_count": 18,
          "metadata": {},
          "output_type": "execute_result"
        }
      ],
      "source": []
    },
    {
      "cell_type": "code",
      "execution_count": null,
      "id": "3fc30c38",
      "metadata": {
        "execution": {
          "iopub.execute_input": "2022-11-19T16:45:07.174411Z",
          "iopub.status.busy": "2022-11-19T16:45:07.173353Z",
          "iopub.status.idle": "2022-11-19T16:45:07.184472Z",
          "shell.execute_reply": "2022-11-19T16:45:07.183112Z"
        },
        "papermill": {
          "duration": 0.028043,
          "end_time": "2022-11-19T16:45:07.186946",
          "exception": false,
          "start_time": "2022-11-19T16:45:07.158903",
          "status": "completed"
        },
        "tags": [],
        "id": "3fc30c38",
        "outputId": "d1e1b28c-c36d-4292-f075-f39cc3295ec9"
      },
      "outputs": [
        {
          "data": {
            "text/plain": [
              "array([0, 1, 1, 1, 0, 0, 1, 0, 0, 1, 1, 0, 1, 0, 1, 1, 0, 1, 0, 0, 0, 1,\n",
              "       0, 0, 1, 1, 0, 1, 0, 0, 1, 0, 0, 1, 1, 0, 1, 0, 1, 1, 0, 1, 1, 0,\n",
              "       0, 1, 1, 1, 1, 0, 0, 0, 1, 1, 1, 0, 1, 1, 1, 1, 0, 0, 0, 1, 0, 1,\n",
              "       1, 1, 1, 1, 0, 0, 1, 0, 0, 1, 0, 0, 0, 1, 0, 1, 1, 0, 1, 1, 0, 1,\n",
              "       0, 0, 0, 1, 1, 0, 0, 0, 1, 0, 0, 0, 0, 1, 1, 0, 1, 0, 0, 0, 1, 0,\n",
              "       1, 1, 0, 0, 1, 0, 1, 0, 1, 1, 1, 0, 1, 1, 0, 0, 0, 0, 0, 0, 0, 1,\n",
              "       1, 0, 1, 0, 0, 1, 0, 1, 0, 0, 1, 1, 1, 1, 1, 0, 0, 0, 0, 0, 1, 0,\n",
              "       0, 0, 0, 0, 0, 1, 0, 0, 1, 0, 1, 1, 0, 1, 0, 0, 1, 1, 0, 1, 0, 1,\n",
              "       0, 1, 0, 1, 1, 1, 0, 1])"
            ]
          },
          "execution_count": 19,
          "metadata": {},
          "output_type": "execute_result"
        }
      ],
      "source": []
    },
    {
      "cell_type": "markdown",
      "id": "5fdf7256",
      "metadata": {
        "papermill": {
          "duration": 0.012295,
          "end_time": "2022-11-19T16:45:07.212023",
          "exception": false,
          "start_time": "2022-11-19T16:45:07.199728",
          "status": "completed"
        },
        "tags": [],
        "id": "5fdf7256"
      },
      "source": [
        "## Decision Tree Visualization\n",
        "<hr>\n",
        "\n",
        "Here is the **Decision tree** we got from the classification of the dataset."
      ]
    },
    {
      "cell_type": "code",
      "execution_count": null,
      "id": "79b45e5d",
      "metadata": {
        "execution": {
          "iopub.execute_input": "2022-11-19T16:45:07.239618Z",
          "iopub.status.busy": "2022-11-19T16:45:07.239158Z",
          "iopub.status.idle": "2022-11-19T16:45:18.379140Z",
          "shell.execute_reply": "2022-11-19T16:45:18.377888Z"
        },
        "papermill": {
          "duration": 11.161855,
          "end_time": "2022-11-19T16:45:18.386456",
          "exception": false,
          "start_time": "2022-11-19T16:45:07.224601",
          "status": "completed"
        },
        "tags": [],
        "id": "79b45e5d",
        "outputId": "26d2ae5e-13fd-4736-af44-81209ac63127"
      },
      "outputs": [
        {
          "data": {
            "image/png": "[encoded data removed]",
            "text/plain": [
              "<Figure size 1440x1440 with 1 Axes>"
            ]
          },
          "metadata": {
            "needs_background": "light"
          },
          "output_type": "display_data"
        }
      ],
      "source": []
    },
    {
      "cell_type": "markdown",
      "id": "04bc3b06",
      "metadata": {
        "papermill": {
          "duration": 0.01715,
          "end_time": "2022-11-19T16:45:18.421414",
          "exception": false,
          "start_time": "2022-11-19T16:45:18.404264",
          "status": "completed"
        },
        "tags": [],
        "id": "04bc3b06"
      },
      "source": [
        "# Comparing both Classifiers\n",
        "<hr>\n",
        "\n",
        "Comparision of both the classifier is done with Confusion Metrix, Classification Report(precision, recall, f1-score, and support) and Prediction Accuracy moduals imported from the **sklearn.metrics**. Confusion Metrix is plotted with the sns heatmap.\n",
        "<br>\n",
        "\n",
        "<div class=\"alert alert-block alert-info\">\n",
        "<b>Note that: </b> Here y_pred is predictions we got fro the KNN model and y_pred_d is predictions we got from the Decision Tree model.\n",
        "</div>"
      ]
    },
    {
      "cell_type": "markdown",
      "id": "f1b68482",
      "metadata": {
        "papermill": {
          "duration": 0.01725,
          "end_time": "2022-11-19T16:45:18.456352",
          "exception": false,
          "start_time": "2022-11-19T16:45:18.439102",
          "status": "completed"
        },
        "tags": [],
        "id": "f1b68482"
      },
      "source": [
        "## Confusion Metrices"
      ]
    },
    {
      "cell_type": "code",
      "execution_count": null,
      "id": "9aafb00f",
      "metadata": {
        "execution": {
          "iopub.execute_input": "2022-11-19T16:45:18.496276Z",
          "iopub.status.busy": "2022-11-19T16:45:18.495842Z",
          "iopub.status.idle": "2022-11-19T16:45:18.793603Z",
          "shell.execute_reply": "2022-11-19T16:45:18.792536Z"
        },
        "papermill": {
          "duration": 0.320547,
          "end_time": "2022-11-19T16:45:18.796092",
          "exception": false,
          "start_time": "2022-11-19T16:45:18.475545",
          "status": "completed"
        },
        "tags": [],
        "id": "9aafb00f",
        "outputId": "5e4ca918-7773-4460-96e3-ddbda2f58584"
      },
      "outputs": [
        {
          "data": {
            "text/plain": [
              "<AxesSubplot:title={'center':'KNN Model Confusion Metrix'}>"
            ]
          },
          "execution_count": 21,
          "metadata": {},
          "output_type": "execute_result"
        },
        {
          "data": {
            "image/png": "[encoded data removed]",
            "text/plain": [
              "<Figure size 432x288 with 2 Axes>"
            ]
          },
          "metadata": {
            "needs_background": "light"
          },
          "output_type": "display_data"
        }
      ],
      "source": []
    },
    {
      "cell_type": "code",
      "execution_count": null,
      "id": "e05a6fa2",
      "metadata": {
        "execution": {
          "iopub.execute_input": "2022-11-19T16:45:18.835703Z",
          "iopub.status.busy": "2022-11-19T16:45:18.834596Z",
          "iopub.status.idle": "2022-11-19T16:45:19.116291Z",
          "shell.execute_reply": "2022-11-19T16:45:19.115303Z"
        },
        "papermill": {
          "duration": 0.303995,
          "end_time": "2022-11-19T16:45:19.118939",
          "exception": false,
          "start_time": "2022-11-19T16:45:18.814944",
          "status": "completed"
        },
        "tags": [],
        "id": "e05a6fa2",
        "outputId": "df6bb02f-6cb7-4068-c2b2-56a3af88ae7e"
      },
      "outputs": [
        {
          "data": {
            "text/plain": [
              "<AxesSubplot:title={'center':'Decision Tree Confusion Metrix'}>"
            ]
          },
          "execution_count": 22,
          "metadata": {},
          "output_type": "execute_result"
        },
        {
          "data": {
            "image/png": "[encoded data removed]",
            "text/plain": [
              "<Figure size 432x288 with 2 Axes>"
            ]
          },
          "metadata": {
            "needs_background": "light"
          },
          "output_type": "display_data"
        }
      ],
      "source": []
    },
    {
      "cell_type": "markdown",
      "id": "32d4d8c1",
      "metadata": {
        "papermill": {
          "duration": 0.01853,
          "end_time": "2022-11-19T16:45:19.156760",
          "exception": false,
          "start_time": "2022-11-19T16:45:19.138230",
          "status": "completed"
        },
        "tags": [],
        "id": "32d4d8c1"
      },
      "source": [
        "## Classification Reports"
      ]
    },
    {
      "cell_type": "code",
      "execution_count": null,
      "id": "a1fc079e",
      "metadata": {
        "execution": {
          "iopub.execute_input": "2022-11-19T16:45:19.197541Z",
          "iopub.status.busy": "2022-11-19T16:45:19.196841Z",
          "iopub.status.idle": "2022-11-19T16:45:19.207282Z",
          "shell.execute_reply": "2022-11-19T16:45:19.205770Z"
        },
        "papermill": {
          "duration": 0.034705,
          "end_time": "2022-11-19T16:45:19.210332",
          "exception": false,
          "start_time": "2022-11-19T16:45:19.175627",
          "status": "completed"
        },
        "tags": [],
        "id": "a1fc079e",
        "outputId": "c21d1475-8ccc-460c-9a16-4aae83e8bf6c"
      },
      "outputs": [
        {
          "name": "stdout",
          "output_type": "stream",
          "text": [
            "              precision    recall  f1-score   support\n",
            "\n",
            "           0       0.72      0.90      0.80        77\n",
            "           1       0.91      0.75      0.82       107\n",
            "\n",
            "    accuracy                           0.81       184\n",
            "   macro avg       0.81      0.82      0.81       184\n",
            "weighted avg       0.83      0.81      0.81       184\n",
            "\n"
          ]
        }
      ],
      "source": []
    },
    {
      "cell_type": "code",
      "execution_count": null,
      "id": "efdfbb99",
      "metadata": {
        "execution": {
          "iopub.execute_input": "2022-11-19T16:45:19.251466Z",
          "iopub.status.busy": "2022-11-19T16:45:19.250640Z",
          "iopub.status.idle": "2022-11-19T16:45:19.261839Z",
          "shell.execute_reply": "2022-11-19T16:45:19.260129Z"
        },
        "papermill": {
          "duration": 0.036059,
          "end_time": "2022-11-19T16:45:19.264963",
          "exception": false,
          "start_time": "2022-11-19T16:45:19.228904",
          "status": "completed"
        },
        "tags": [],
        "id": "efdfbb99",
        "outputId": "f6e1565f-2773-4130-c928-32d163d4c5bb"
      },
      "outputs": [
        {
          "name": "stdout",
          "output_type": "stream",
          "text": [
            "              precision    recall  f1-score   support\n",
            "\n",
            "           0       0.57      0.66      0.61        77\n",
            "           1       0.73      0.64      0.68       107\n",
            "\n",
            "    accuracy                           0.65       184\n",
            "   macro avg       0.65      0.65      0.65       184\n",
            "weighted avg       0.66      0.65      0.65       184\n",
            "\n"
          ]
        }
      ],
      "source": []
    },
    {
      "cell_type": "markdown",
      "id": "af161ee1",
      "metadata": {
        "papermill": {
          "duration": 0.018699,
          "end_time": "2022-11-19T16:45:19.304019",
          "exception": false,
          "start_time": "2022-11-19T16:45:19.285320",
          "status": "completed"
        },
        "tags": [],
        "id": "af161ee1"
      },
      "source": [
        "## Accuracy Scores"
      ]
    },
    {
      "cell_type": "code",
      "execution_count": null,
      "id": "af7f77bc",
      "metadata": {
        "execution": {
          "iopub.execute_input": "2022-11-19T16:45:19.347063Z",
          "iopub.status.busy": "2022-11-19T16:45:19.346564Z",
          "iopub.status.idle": "2022-11-19T16:45:19.354627Z",
          "shell.execute_reply": "2022-11-19T16:45:19.352697Z"
        },
        "papermill": {
          "duration": 0.03625,
          "end_time": "2022-11-19T16:45:19.359447",
          "exception": false,
          "start_time": "2022-11-19T16:45:19.323197",
          "status": "completed"
        },
        "tags": [],
        "id": "af7f77bc",
        "outputId": "8a2b7495-c04f-450f-ead7-4ee22a5ac620"
      },
      "outputs": [
        {
          "name": "stdout",
          "output_type": "stream",
          "text": [
            "0.6521739130434783\n"
          ]
        }
      ],
      "source": [
        "# KNN Model\n",
        "\n"
      ]
    },
    {
      "cell_type": "code",
      "execution_count": null,
      "id": "4607b982",
      "metadata": {
        "execution": {
          "iopub.execute_input": "2022-11-19T16:45:19.403187Z",
          "iopub.status.busy": "2022-11-19T16:45:19.402734Z",
          "iopub.status.idle": "2022-11-19T16:45:19.410596Z",
          "shell.execute_reply": "2022-11-19T16:45:19.409316Z"
        },
        "papermill": {
          "duration": 0.031515,
          "end_time": "2022-11-19T16:45:19.413478",
          "exception": false,
          "start_time": "2022-11-19T16:45:19.381963",
          "status": "completed"
        },
        "tags": [],
        "id": "4607b982",
        "outputId": "583e6e76-db6c-43a0-ad49-f023abfbb189"
      },
      "outputs": [
        {
          "name": "stdout",
          "output_type": "stream",
          "text": [
            "0.8097826086956522\n"
          ]
        }
      ],
      "source": [
        "# Dicision Tree Model\n",
        "\n"
      ]
    }
  ],
  "metadata": {
    "kernelspec": {
      "display_name": "Python 3 (ipykernel)",
      "language": "python",
      "name": "python3"
    },
    "language_info": {
      "codemirror_mode": {
        "name": "ipython",
        "version": 3
      },
      "file_extension": ".py",
      "mimetype": "text/x-python",
      "name": "python",
      "nbconvert_exporter": "python",
      "pygments_lexer": "ipython3",
      "version": "3.10.12"
    },
    "papermill": {
      "default_parameters": {},
      "duration": 25.933997,
      "end_time": "2022-11-19T16:45:20.358586",
      "environment_variables": {},
      "exception": null,
      "input_path": "__notebook__.ipynb",
      "output_path": "__notebook__.ipynb",
      "parameters": {},
      "start_time": "2022-11-19T16:44:54.424589",
      "version": "2.3.4"
    },
    "colab": {
      "provenance": []
    }
  },
  "nbformat": 4,
  "nbformat_minor": 5
}